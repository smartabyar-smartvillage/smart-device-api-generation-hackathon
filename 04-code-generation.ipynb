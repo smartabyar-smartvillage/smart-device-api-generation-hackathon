{
 "cells": [
  {
   "cell_type": "markdown",
   "id": "20f6539f",
   "metadata": {},
   "source": [
    "# Watch Smarta Byar Smart Village code for changes\n",
    "\n",
    "Run the following command below in a terminal inside of VSCode. \n",
    "- Click on the menu in the very top left of VSCode -> Terminal -> New Terminal\n",
    "- Move the terminal tab to the bottom of the VSCode window so that the course and the terminal are visible. \n",
    "- Select the command below by selecting the text starting with `env ` and ending with `watch.sh`. \n",
    "- Copy the command to the clipboard by pressing [ Ctrl ] + [ Insert ]. \n",
    "- Paste the command into the terminal by pressing [ Shift ] + [ Insert], then press [ Enter ]. \n",
    "- The command will reindex all the Java classes in the `smartabyar-smartvillage` project. \n",
    "- Wait until the indexing is complete and the terminal displays `Ready`. "
   ]
  },
  {
   "cell_type": "markdown",
   "id": "ab8d1199",
   "metadata": {},
   "source": [
    "env SITE_NAME=smartabyar-smartvillage SITE_PATH=$HOME/smartabyar-smartvillage COMPUTATE_SRC=$HOME/computate SITE_LANG=enUS $HOME/computate/bin/enUS/watch.sh"
   ]
  },
  {
   "cell_type": "markdown",
   "id": "46ce666c",
   "metadata": {},
   "source": [
    "## Creating a new PhotovoltaicMeasurement Java Class based on the Smart Data Model\n",
    "\n",
    "Now it's time to create a new Java class called `PhotovoltaicMeasurement.java`, and then you will generate all the code for it to represent a real Smart Data Model. "
   ]
  },
  {
   "cell_type": "code",
   "execution_count": null,
   "id": "c0385ad8",
   "metadata": {
    "vscode": {
     "languageId": "shellscript"
    }
   },
   "outputs": [],
   "source": [
    "mkdir -p ~/smartabyar-smartvillage/src/main/java/org/computate/smartvillage/enus/model/photovoltaicmeasurement/\n",
    "echo 'package org.computate.smartvillage.enus.model.photovoltaicmeasurement;\n",
    "\n",
    "public class PhotovoltaicMeasurement {\n",
    "}\n",
    "' | tee ~/smartabyar-smartvillage/src/main/java/org/computate/smartvillage/enus/model/photovoltaicmeasurement/PhotovoltaicMeasurement.java >/dev/null\n",
    "echo DONE"
   ]
  },
  {
   "cell_type": "markdown",
   "id": "ff80ec4e",
   "metadata": {},
   "source": [
    "You should notice some output in the terminal below where it mentioned `PhotovoltaicMeasurement touched`. This means it knows a new Java class was created or modified. \n"
   ]
  },
  {
   "cell_type": "code",
   "execution_count": null,
   "id": "8fdaf09c",
   "metadata": {
    "vscode": {
     "languageId": "shellscript"
    }
   },
   "outputs": [],
   "source": [
    "echo 'package org.computate.smartvillage.enus.model.photovoltaicmeasurement;\n",
    "\n",
    "/**\n",
    " * SmartDataModel: photovoltaic measurement\n",
    " * Fiware: true\n",
    " **/\n",
    "public class PhotovoltaicMeasurement {\n",
    "}\n",
    "' | tee ~/smartabyar-smartvillage/src/main/java/org/computate/smartvillage/enus/model/photovoltaicmeasurement/PhotovoltaicMeasurement.java >/dev/null\n",
    "echo DONE"
   ]
  },
  {
   "cell_type": "markdown",
   "id": "8eb36a61",
   "metadata": {},
   "source": [
    "You'll notice again some output in the terminal below `PhotovoltaicMeasurement touched` where it found the 10 closest Smart Data Model matches to your `SmartDataModel: photovoltaic measurement` search query. Unfortunately, it put `Measurement EnergyCIM Smart Energy` at number 1 with a score of 133, and `PhotovoltaicMeasurement GreenEnergy Smart Energy` at number 4 with a score of 127. \n",
    "\n",
    "Let's try the search again with more keywords to find a better match: "
   ]
  },
  {
   "cell_type": "code",
   "execution_count": null,
   "id": "a4f4a220",
   "metadata": {
    "vscode": {
     "languageId": "shellscript"
    }
   },
   "outputs": [],
   "source": [
    "echo 'package org.computate.smartvillage.enus.model.photovoltaicmeasurement;\n",
    "\n",
    "/**\n",
    " * SmartDataModel: photo voltaic measurement green energy smart energy\n",
    " * Fiware: true\n",
    " **/\n",
    "public class PhotovoltaicMeasurement {\n",
    "}\n",
    "' | tee ~/smartabyar-smartvillage/src/main/java/org/computate/smartvillage/enus/model/photovoltaicmeasurement/PhotovoltaicMeasurement.java >/dev/null\n",
    "echo DONE"
   ]
  },
  {
   "cell_type": "markdown",
   "id": "a0774b49",
   "metadata": {},
   "source": [
    "Hopefully you see a better match with `PhotovoltaicMeasurement GreenEnergy Smart Energy` at number 1 with a score of 252. Next we'll have it generate the code for this Smart Data Model by removing the comment `Fiware: true`. "
   ]
  },
  {
   "cell_type": "code",
   "execution_count": null,
   "id": "c225d327",
   "metadata": {
    "vscode": {
     "languageId": "shellscript"
    }
   },
   "outputs": [],
   "source": [
    "echo 'package org.computate.smartvillage.enus.model.photovoltaicmeasurement;\n",
    "\n",
    "/**\n",
    " * SmartDataModel: photo voltaic measurement green energy smart energy\n",
    " **/\n",
    "public class PhotovoltaicMeasurement {\n",
    "}\n",
    "' | tee ~/smartabyar-smartvillage/src/main/java/org/computate/smartvillage/enus/model/photovoltaicmeasurement/PhotovoltaicMeasurement.java >/dev/null\n",
    "echo DONE"
   ]
  },
  {
   "cell_type": "markdown",
   "id": "7ce81d34",
   "metadata": {},
   "source": [
    "There should be a long printout of code that will replace most of the code above. \n",
    "\n",
    "- First navigate to the created class in the Explorer on the left: `smartabyar-smartvillage/src/main/java/org/computate/smartvillage/enus/model/photovoltaicmeasurement/PhotovoltaicMeasurement.java`\n",
    "- Keep the first line with the `package` and delete all the lines starting with line 3 and below. \n",
    "- In the console output below, select everything between `FIWARE SmartDataModel fields:` starting with `import ` until the final `}` and above `PhotovoltaicMeasurement touched`. \n",
    "- Copy the code in the terminal to the clipboard with [ Ctrl ] + [ Insert ]. \n",
    "- Inside of PhotovoltaicMeasurement.java below the package, paste the code. \n",
    "- You can see `PhotovoltaicMeasurement touched` in the terminal again. \n"
   ]
  },
  {
   "cell_type": "code",
   "execution_count": null,
   "id": "8aa94070",
   "metadata": {
    "vscode": {
     "languageId": "shellscript"
    }
   },
   "outputs": [],
   "source": [
    "(cd ~/smartabyar-smartvillage && git status)"
   ]
  },
  {
   "cell_type": "markdown",
   "id": "24692962",
   "metadata": {},
   "source": [
    "## Rebuild the Smart Village OpenAPI spec, database scripts, and more\n",
    "\n",
    "A running web application is made up of much more than Java code. \n",
    "\n",
    "- The Smart Village Platform is also made up of CSS Stylesheets and Java Script. Each model has it's own set of specific JavaScript specific to it's fields and APIs. \n",
    "\n",
    "- An OpenAPI Spec is generated to map out all the APIs and pages in the site for system integrators to consume or update data in the site. \n",
    "\n",
    "- A database schema is also generated for storing all model data with specific field values, tables, and foreign key relations. \n",
    "\n",
    "- The `smartabyar-smartvillage` project also inherits certain static content from the parent project `smartvillage-platform`, so we copy any updates to the inherited static content into the project's static content as well. \n",
    "\n",
    "- We also build a FIWARE Context, which is the documentation of all the FIWARE related Smart Data Models following the standard for NGSI-LD data and publish the context to GitHub. \n",
    "\n",
    "Run the command below to generate all of the code listed above. "
   ]
  },
  {
   "cell_type": "code",
   "execution_count": null,
   "id": "51e9b11b",
   "metadata": {
    "vscode": {
     "languageId": "shellscript"
    }
   },
   "outputs": [],
   "source": [
    "(cd ~/smartabyar-smartvillage && mvn clean install -D skipTests)\n",
    "(cd ~/smartabyar-smartvillage && env \\\n",
    "  RUN_ARTICLE_GENERATOR=true \\\n",
    "  RUN_FIWARE_GENERATOR=true \\\n",
    "  RUN_OPENAPI3_GENERATOR=true \\\n",
    "  RUN_PROJECT_GENERATOR=true \\\n",
    "  RUN_SQL_GENERATOR=true \\\n",
    "  CONFIG_PATH=$HOME/smartabyar-smartvillage/config/smartabyar-smartvillage.yml \\\n",
    "  mvn exec:java -Dexec.mainClass=\"org.computate.smartvillage.enus.vertx.MainVerticle\")\n"
   ]
  },
  {
   "cell_type": "markdown",
   "id": "bff08b25",
   "metadata": {},
   "source": [
    "## Update the Role Based Access Control defaults for PhotovoltaicMeasurement and register our new API\n",
    "I have written an Ansible Playbook in the course that will update the `~/smartabyar-smartvillage/src/main/resources/application.yml` with the value `AUTH_ROLE_REQUIRED_PhotovoltaicMeasurement: Public`. This means that users that have a role of `Public` given to them by the Red Hat SSO server will be able to create/update/view PhotovoltaicMeasurement records. "
   ]
  },
  {
   "cell_type": "code",
   "execution_count": null,
   "id": "c6b87f6e",
   "metadata": {
    "vscode": {
     "languageId": "shellscript"
    }
   },
   "outputs": [],
   "source": [
    "ansible-playbook ~/smart-device-api-generation-hackathon/update_application.yaml"
   ]
  },
  {
   "cell_type": "markdown",
   "id": "8d2bcb0b",
   "metadata": {},
   "source": [
    "Run the commands below to see how we have newly configured PhotovoltaicMeasurement in our Smart Village Platform. "
   ]
  },
  {
   "cell_type": "code",
   "execution_count": null,
   "id": "876e5140",
   "metadata": {
    "vscode": {
     "languageId": "shellscript"
    }
   },
   "outputs": [],
   "source": [
    "grep -r PhotovoltaicMeasurement ~/smartabyar-smartvillage/src/main/resources/application.yml\n",
    "echo DONE"
   ]
  },
  {
   "cell_type": "markdown",
   "id": "2944d543",
   "metadata": {},
   "source": [
    "See below how we register the PhotovoltaicMeasurement API code in the Main Vert.x Verticle of the Smart Village Platform and link it to the OpenAPI spec that we regenerated. "
   ]
  },
  {
   "cell_type": "code",
   "execution_count": null,
   "id": "5d3857ba",
   "metadata": {
    "vscode": {
     "languageId": "shellscript"
    }
   },
   "outputs": [],
   "source": [
    "grep -r PhotovoltaicMeasurement ~/smartabyar-smartvillage/src/main/java/org/computate/smartvillage/enus/vertx/MainVerticle.java\n",
    "echo DONE"
   ]
  },
  {
   "cell_type": "markdown",
   "id": "cbe0e4df",
   "metadata": {},
   "source": [
    "\n",
    "## Compile the latest smartabyar-smartvillage generated Java code\n",
    "We use Maven to compile all the Java Code for the smartabyar-smartvillage project, including the new code we generated for PhotovoltaicMeasurement data. "
   ]
  },
  {
   "cell_type": "code",
   "execution_count": null,
   "id": "a84fa44e",
   "metadata": {
    "vscode": {
     "languageId": "shellscript"
    }
   },
   "outputs": [],
   "source": [
    "(cd ~/smartabyar-smartvillage && mvn clean install -D skipTests)\n",
    "echo DONE"
   ]
  },
  {
   "cell_type": "markdown",
   "id": "1fed4b20",
   "metadata": {},
   "source": [
    "## Run SQL create scripts with new PostgreSQL tables\n",
    "When we create new Smart Data Models that are persisted in the PostgreSQL database, we need to make sure that our database has all the tables and fields required to persist the data. Run the commands below to rsync the `db-create.sql` script to the PostgreSQL pod. It will connect again and apply all of the database schema changes to the database. "
   ]
  },
  {
   "cell_type": "code",
   "execution_count": null,
   "id": "110ea654",
   "metadata": {
    "vscode": {
     "languageId": "shellscript"
    }
   },
   "outputs": [],
   "source": [
    "oc -n $(cat /var/run/secrets/kubernetes.io/serviceaccount/namespace) rsync \\\n",
    "  /opt/app-root/src/smartabyar-smartvillage/src/main/resources/sql/ \\\n",
    "  $(oc -n $(cat /var/run/secrets/kubernetes.io/serviceaccount/namespace) get pod -l app=postgres -o name):/tmp/\n",
    "oc -n $(cat /var/run/secrets/kubernetes.io/serviceaccount/namespace) exec \\\n",
    "  $(oc -n $(cat /var/run/secrets/kubernetes.io/serviceaccount/namespace) get pod -l app=postgres -o name) \\\n",
    "  -- bash -c 'psql -U smartvillage smartvillage < /tmp/db-create.sql'\n",
    "echo DONE"
   ]
  },
  {
   "cell_type": "markdown",
   "id": "d3c4ba5b",
   "metadata": {},
   "source": []
  }
 ],
 "metadata": {
  "kernelspec": {
   "display_name": "Bash",
   "language": "bash",
   "name": "bash"
  },
  "language_info": {
   "codemirror_mode": "shell",
   "file_extension": ".sh",
   "mimetype": "text/x-sh",
   "name": "bash"
  }
 },
 "nbformat": 4,
 "nbformat_minor": 5
}
