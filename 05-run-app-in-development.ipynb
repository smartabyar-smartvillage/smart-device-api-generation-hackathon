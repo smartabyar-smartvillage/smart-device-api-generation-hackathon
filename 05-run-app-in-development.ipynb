{
 "cells": [
  {
   "cell_type": "markdown",
   "id": "e6f440ea",
   "metadata": {},
   "source": [
    "# Run the newly generated Smart Village Platform in development\n"
   ]
  },
  {
   "cell_type": "markdown",
   "id": "3b4fe8e6",
   "metadata": {},
   "source": [
    "We need to delete the old `smartabyar-smartvillage.yml` configuration file and regenerate it to point to the new route running in development. "
   ]
  },
  {
   "cell_type": "code",
   "execution_count": null,
   "id": "b13a80db",
   "metadata": {
    "vscode": {
     "languageId": "shellscript"
    }
   },
   "outputs": [],
   "source": [
    "SITE_HOST_NAME=\"$(oc -n $(cat /var/run/secrets/kubernetes.io/serviceaccount/namespace) get route/vscode-devel -o jsonpath={.spec.host})\"\n",
    "AUTH_CLIENT=\"$(oc -n $(cat /var/run/secrets/kubernetes.io/serviceaccount/namespace) get secret/smartvillage -o jsonpath={.data.CLIENT_ID} | base64 -d)\"\n",
    "AUTH_SECRET=\"$(oc -n $(cat /var/run/secrets/kubernetes.io/serviceaccount/namespace) get secret/smartvillage -o jsonpath={.data.CLIENT_SECRET} | base64 -d)\"\n",
    "\n",
    "rm ~/smartabyar-smartvillage/config/smartabyar-smartvillage.yml\n",
    "\n",
    "ansible-playbook ~/.ansible/roles/computate.computate_project/install.yml \\\n",
    "  -e SITE_NAME=smartabyar-smartvillage \\\n",
    "  -e SYSTEMD_ENABLED=false \\\n",
    "  -e SITE_PREFIX=/opt/app-root/src \\\n",
    "  -e SOLR_HOST_NAME_COMPUTATE=solr \\\n",
    "  -e SOLR_PORT_COMPUTATE=8983 \\\n",
    "  -e SOLR_SSL_COMPUTATE=false \\\n",
    "  -e SOLR_HOST_NAME=solr \\\n",
    "  -e SOLR_PORT=8983 \\\n",
    "  -e SOLR_SSL=false \\\n",
    "  -e SOLR_URL=\"http://solr:8983/solr/smartabyar-smartvillage\" \\\n",
    "  -e SOLR_URL_COMPUTATE=\"http://solr:8983/solr/computate\" \\\n",
    "  -e ZOOKEEPER_HOST_NAME=zookeeper \\\n",
    "  -e ZOOKEEPER_PORT=2181 \\\n",
    "  -e JDBC_HOST=postgres-smartvillage \\\n",
    "  -e JDBC_PORT=5432 \\\n",
    "  -e POSTGRES_NAMESPACE=$(cat /var/run/secrets/kubernetes.io/serviceaccount/namespace) \\\n",
    "  -e ZOOKEEPER_NAMESPACE=$(cat /var/run/secrets/kubernetes.io/serviceaccount/namespace) \\\n",
    "  -e SOLR_NAMESPACE=$(cat /var/run/secrets/kubernetes.io/serviceaccount/namespace) \\\n",
    "  -e SITE_BASE_URL=\"https://${SITE_HOST_NAME}\" \\\n",
    "  -e STATIC_BASE_URL=\"https://${SITE_HOST_NAME}/static\" \\\n",
    "  -e AUTH_CLIENT=\"${AUTH_CLIENT}\" \\\n",
    "  -e AUTH_SECRET=\"${AUTH_SECRET}\" \\\n",
    "  -e AUTH_ROLE_ADMIN=\"Public\" \\\n",
    "  -e ENABLE_KAFKA=false \\\n",
    "  -e ENABLE_IMPORT_DATA=false\n",
    "echo DONE"
   ]
  },
  {
   "cell_type": "markdown",
   "id": "6b74565c",
   "metadata": {},
   "source": [
    "Open a new terminal and run the command below to run your newly generated Smart Village Platform in development. "
   ]
  },
  {
   "cell_type": "markdown",
   "id": "f54afa2c",
   "metadata": {},
   "source": [
    "```bash\n",
    "~/smart-device-api-generation-hackathon/run.sh\n",
    "```"
   ]
  },
  {
   "cell_type": "markdown",
   "id": "08352781",
   "metadata": {},
   "source": [
    "### Open Service, Route, and NetworkPolicy for live cloud development\n",
    "\n"
   ]
  },
  {
   "cell_type": "markdown",
   "id": "15635a2f",
   "metadata": {},
   "source": [
    "Create the OpenShift Service definition below to open up the port 12080 of the notebook to network traffic in the namespace. "
   ]
  },
  {
   "cell_type": "code",
   "execution_count": null,
   "id": "eacf59a6-a5bf-4b20-8be8-c85266d2a6f2",
   "metadata": {
    "vscode": {
     "languageId": "shellscript"
    }
   },
   "outputs": [],
   "source": [
    "echo \"\n",
    "kind: Service\n",
    "apiVersion: v1\n",
    "metadata:\n",
    "  name: vscode-devel\n",
    "  namespace: $(cat /var/run/secrets/kubernetes.io/serviceaccount/namespace)\n",
    "spec:\n",
    "  ports:\n",
    "    - protocol: TCP\n",
    "      port: 12080\n",
    "      targetPort: 12080\n",
    "  type: ClusterIP\n",
    "  selector:\n",
    "    notebook-name: vscode\n",
    "\" | oc apply -f -\n"
   ]
  },
  {
   "cell_type": "markdown",
   "id": "5c617eaa",
   "metadata": {},
   "source": [
    "Create the OpenShift NetworkPolicy definition below allow access from the route to the port 12080 of the notebook pod. "
   ]
  },
  {
   "cell_type": "code",
   "execution_count": null,
   "id": "e9b91b2a",
   "metadata": {
    "vscode": {
     "languageId": "shellscript"
    }
   },
   "outputs": [],
   "source": [
    "echo \"\n",
    "kind: NetworkPolicy\n",
    "apiVersion: networking.k8s.io/v1\n",
    "metadata:\n",
    "  name: vscode-devel\n",
    "spec:\n",
    "  podSelector:\n",
    "    matchLabels:\n",
    "      notebook-name: vscode\n",
    "  ingress:\n",
    "    - ports:\n",
    "        - protocol: TCP\n",
    "          port: 12080\n",
    "  policyTypes:\n",
    "    - Ingress\n",
    "status: {}\n",
    "\" | oc apply -f -\n"
   ]
  },
  {
   "cell_type": "markdown",
   "id": "18d0c71a",
   "metadata": {},
   "source": [
    "Create the OpenShift Route definition below to expose the running Smart Village application in development to the Internet. "
   ]
  },
  {
   "cell_type": "code",
   "execution_count": null,
   "id": "ec954cd0",
   "metadata": {
    "vscode": {
     "languageId": "shellscript"
    }
   },
   "outputs": [],
   "source": [
    "echo \"\n",
    "kind: Route\n",
    "apiVersion: route.openshift.io/v1\n",
    "metadata:\n",
    "  name: vscode-devel\n",
    "  labels:\n",
    "    notebook-name: vscode\n",
    "spec:\n",
    "  to:\n",
    "    kind: Service\n",
    "    name: vscode-devel\n",
    "    weight: 100\n",
    "  port:\n",
    "    targetPort: 12080\n",
    "  tls:\n",
    "    termination: edge\n",
    "  wildcardPolicy: None\n",
    "\" | oc apply -f -\n",
    "\n",
    "echo \"https://$(oc get route/vscode-devel -o jsonpath={.spec.host})/PhotovoltaicMeasurement\""
   ]
  },
  {
   "cell_type": "markdown",
   "id": "2517e305",
   "metadata": {},
   "source": [
    "## Visit your own instance of the Smart Village Platform\n",
    "\n",
    "Click on the link above to access the dashboard for PhotovoltaicMeasurement records in your own instance of the Smart Village Platform. "
   ]
  },
  {
   "cell_type": "markdown",
   "id": "d3c4ba5b",
   "metadata": {},
   "source": []
  }
 ],
 "metadata": {
  "kernelspec": {
   "display_name": "Bash",
   "language": "bash",
   "name": "bash"
  },
  "language_info": {
   "codemirror_mode": "shell",
   "file_extension": ".sh",
   "mimetype": "text/x-sh",
   "name": "bash"
  }
 },
 "nbformat": 4,
 "nbformat_minor": 5
}
