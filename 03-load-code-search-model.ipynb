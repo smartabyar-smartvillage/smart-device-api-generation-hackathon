{
 "cells": [
  {
   "cell_type": "markdown",
   "id": "fb657b93-d1e1-4bc5-8b8f-25bd212beb85",
   "metadata": {},
   "source": [
    "# Load the code search model into the Solr search engine\n",
    "\n",
    "In this hackathon, we will be generating code with AI/ML provided by the well established [computate project](https://github.com/computate-org/computate). We will automatically generate OpenAPI specs, database table schemas, Java POJOs, Vert.x Reactive Java APIs, Handlebars HTML page templates, JavaScript page and API functions, NGSI-LD Context data, OpenShift Custom Resource Definitions, and Ansible Operator roles and playbooks for any of the hundreds of open source Edge device data related [FIWARE Smart Data Models available here](https://github.com/smart-data-models). \n",
    "\n",
    "## Prerequisites\n",
    "To run the AI/ML code generation, you need to have completed the steps in the [README](README.md), [notebook 01-install-prerequisites.ipynb](01-install-prerequisites.ipynb), and [ notebook 02-deploy-microservices.ipynb](01-install-prerequisites.ipynb) to install the dependencies into the workbench, and deploy all the microservices. Then run the commands below in your OpenShift AI Workbench. "
   ]
  },
  {
   "cell_type": "markdown",
   "id": "b5611b31",
   "metadata": {},
   "source": [
    "## Clone Computate and Smart Village repos"
   ]
  },
  {
   "cell_type": "markdown",
   "id": "78894ab6",
   "metadata": {},
   "source": [
    "### Install the computate_project Ansible Role\n",
    "\n",
    "The [computate_project Ansible Role](https://github.com/computate-org/computate_project.git) is for installing Java projects that want to generate code for them using the [computate project](https://github.com/computate-org/computate.git). "
   ]
  },
  {
   "cell_type": "code",
   "execution_count": null,
   "id": "50663f45-25ce-4551-8550-0986e67369be",
   "metadata": {
    "vscode": {
     "languageId": "shellscript"
    }
   },
   "outputs": [],
   "source": [
    "install -d ~/.ansible/roles\n",
    "git clone https://github.com/computate-org/computate_project.git ~/.ansible/roles/computate.computate_project\n",
    "echo DONE"
   ]
  },
  {
   "cell_type": "markdown",
   "id": "0b621732",
   "metadata": {},
   "source": [
    "### Install the computate project\n",
    "\n",
    "The [computate project](https://github.com/computate-org/computate.git) is a Java project that watches for changes to files in a directory recursively, parses the Java code as it's created or updated, indexes every detail about each Java class, constructor, method, and field in the Apache Solr search engine, and generates code based on what it discovers. This is the main open source library that does the AI/ML code generation. Instead of a typical model server, we use Apache Solr as the model server. We can flexibly index every aspect about our Java code in Solr as we code over time, including multiple Java projects at the same time, and link together classes, types, and foreign key relations between projects. "
   ]
  },
  {
   "cell_type": "code",
   "execution_count": null,
   "id": "afb89892-f417-4fba-9c1c-d0f04d328af1",
   "metadata": {
    "vscode": {
     "languageId": "shellscript"
    }
   },
   "outputs": [],
   "source": [
    "git clone https://github.com/computate-org/computate.git ~/computate\n",
    "echo DONE"
   ]
  },
  {
   "cell_type": "markdown",
   "id": "729d687d",
   "metadata": {},
   "source": [
    "Use maven to compile and install the computate project in the workbench. "
   ]
  },
  {
   "cell_type": "code",
   "execution_count": null,
   "id": "354b35b8-213b-4151-a9b0-a2fba25ee86e",
   "metadata": {
    "tags": [],
    "vscode": {
     "languageId": "shellscript"
    }
   },
   "outputs": [],
   "source": [
    "(cd ~/computate &&  mvn clean install)\n",
    "echo DONE"
   ]
  },
  {
   "cell_type": "markdown",
   "id": "a1c3f4fe",
   "metadata": {},
   "source": [
    "### Install the computate-search project\n",
    "\n",
    "The [computate-search project](https://github.com/computate-org/computate-search.git) is a Java project that mainly interacts with Apache Solr to make search queries, and parse the response. There are also several date time serializers and deserializers for handling date times in requests. One other important class is the `Wrap` class which can wrap a Java field initialization value by it's generic type as part of the generated initialization code for each class. "
   ]
  },
  {
   "cell_type": "code",
   "execution_count": null,
   "id": "4eb25561",
   "metadata": {
    "vscode": {
     "languageId": "shellscript"
    }
   },
   "outputs": [],
   "source": [
    "git clone https://github.com/computate-org/computate-search.git ~/computate-search\n",
    "echo DONE"
   ]
  },
  {
   "cell_type": "markdown",
   "id": "082e9e0f",
   "metadata": {},
   "source": [
    "Run the Ansible Playbook to configure and compile the `computate-search` project. "
   ]
  },
  {
   "cell_type": "code",
   "execution_count": null,
   "id": "eff18d30-1f7b-4503-8358-e140ab9aaffb",
   "metadata": {
    "tags": [],
    "vscode": {
     "languageId": "shellscript"
    }
   },
   "outputs": [],
   "source": [
    "ansible-playbook ~/.ansible/roles/computate.computate_project/install.yaml \\\n",
    "  -e SITE_NAME=computate-search \\\n",
    "  -e SYSTEMD_ENABLED=false \\\n",
    "  -e SITE_PREFIX=/opt/app-root/src \\\n",
    "  -e SOLR_HOST_NAME=solr \\\n",
    "  -e SOLR_PORT=8983 \\\n",
    "  -e SOLR_SSL=false \\\n",
    "  -e SOLR_URL=\"http://solr:8983/solr/computate-search\" \\\n",
    "  -e SOLR_URL_COMPUTATE=\"http://solr:8983/solr/computate\" \\\n",
    "  -e POSTGRES_NAMESPACE=$(cat /var/run/secrets/kubernetes.io/serviceaccount/namespace) \\\n",
    "  -e ZOOKEEPER_NAMESPACE=$(cat /var/run/secrets/kubernetes.io/serviceaccount/namespace) \\\n",
    "  -e SOLR_NAMESPACE=$(cat /var/run/secrets/kubernetes.io/serviceaccount/namespace)\n",
    "echo DONE"
   ]
  },
  {
   "cell_type": "markdown",
   "id": "7af2f091",
   "metadata": {},
   "source": [
    "Take a look at the `computate-search/config/computate-search.yaml` configuration file that was created based on your environment. "
   ]
  },
  {
   "cell_type": "code",
   "execution_count": null,
   "id": "237dab0c-ac5f-432a-9ae4-e12839655ffd",
   "metadata": {
    "vscode": {
     "languageId": "shellscript"
    }
   },
   "outputs": [],
   "source": [
    "cat ~/computate-search/config/computate-search.yaml\n",
    "echo DONE"
   ]
  },
  {
   "cell_type": "markdown",
   "id": "0cdcb9d6",
   "metadata": {},
   "source": [
    "Run the `index.sh` shell script of the `computate` project on  the  `computate-search` project to index all of the `computate-search` Java classes into the Apache Solr search engine. "
   ]
  },
  {
   "cell_type": "code",
   "execution_count": null,
   "id": "d99f82e6",
   "metadata": {
    "vscode": {
     "languageId": "shellscript"
    }
   },
   "outputs": [],
   "source": [
    "env SITE_NAME=computate-search \\\n",
    "  SITE_PATH=$HOME/computate-search \\\n",
    "  COMPUTATE_SRC=$HOME/computate \\\n",
    "  SITE_LANG=enUS \\\n",
    "  ~/computate/bin/enUS/index.sh\n",
    "echo DONE"
   ]
  },
  {
   "cell_type": "markdown",
   "id": "f4162a9f",
   "metadata": {},
   "source": [
    "Now query the Solr search engine to find out how many Java classes, constructors, methods, fields, and generated fields are found in the  `computate-search` project. "
   ]
  },
  {
   "cell_type": "code",
   "execution_count": null,
   "id": "dde0f1bb",
   "metadata": {
    "vscode": {
     "languageId": "shellscript"
    }
   },
   "outputs": [],
   "source": [
    "curl -s 'http://solr:8983/solr/computate/query?rows=0&fq=siteNom_indexed_string:computate-search' -d \\\n",
    "  '{\n",
    "    \"query\": \"*:*\"\n",
    "    , \"facet\": {\n",
    "      \"classes\" : { \"type\": \"terms\", \"field\": \"classeNomSimple_enUS_indexed_string\", \"numBuckets\": true, \"limit\": 5 }\n",
    "      , \"constructors\" : { \"type\": \"terms\", \"field\": \"partEstConstructeur_indexed_boolean\" }\n",
    "      , \"methods\" : { \"type\": \"terms\", \"field\": \"partEstMethode_indexed_boolean\" }\n",
    "      , \"methodNames\" : { \"type\": \"terms\", \"field\": \"methodeVar_enUS_indexed_string\", \"numBuckets\": true, \"limit\": 5 }\n",
    "      , \"fields\" : { \"type\": \"terms\", \"field\": \"partEstChamp_indexed_boolean\" }\n",
    "      , \"fieldNames\" : { \"type\": \"terms\", \"field\": \"champVar_enUS_indexed_string\", \"numBuckets\": true, \"limit\": 5 }\n",
    "      , \"generatedFields\" : { \"type\": \"terms\", \"field\": \"partEstEntite_indexed_boolean\" }\n",
    "      , \"generatedFieldNames\" : { \"type\": \"terms\", \"field\": \"entiteVar_enUS_indexed_string\", \"numBuckets\": true, \"limit\": 5 }\n",
    "    }\n",
    "  }' | jq -r '\"\\(.facets.classes.numBuckets) Java classes (for example \\(.facets.classes.buckets | map(.val) | join(\", \")))\n",
    "\\(.facets.constructors.buckets[0].count) constructors\n",
    "\\(.facets.methods.buckets[0].count) methods (for example \\(.facets.methodNames.buckets | map(.val) | join(\", \")))\n",
    "\\(.facets.fields.buckets[0].count) fields (for example \\(.facets.fieldNames.buckets | map(.val) | join(\", \")))\n",
    "\\(.facets.generatedFields.buckets[0].count) new generated fields (for example \\(.facets.generatedFieldNames.buckets | map(.val) | join(\", \")))\"'\n",
    "echo DONE"
   ]
  },
  {
   "cell_type": "markdown",
   "id": "3b52068c",
   "metadata": {},
   "source": [
    "### Install the computate-vertx project\n",
    "\n",
    "The [computate-vertx project](https://github.com/computate-org/computate-vertx.git) is a Java project that integrates Vert.x libraries into a project for reactive, event-bus driven software development. There is additional search capabilities built in to perform searches to Apache Solr asynchronously. There is PostgreSQL database integration with serializers and deserializers for GeoJson fields. Additional Vert.x tools, OpenAPI schema writers, boiler plate code project writers, FIWARE and NGSI-LD context writers, OpenID Connect/OAuth2 authentication/authorization handlers, Handlebars HTML Template handlers, and a base API Java Interface for building powerful, reactive secure APIs for anything. "
   ]
  },
  {
   "cell_type": "code",
   "execution_count": null,
   "id": "4013be68",
   "metadata": {
    "vscode": {
     "languageId": "shellscript"
    }
   },
   "outputs": [],
   "source": [
    "git clone https://github.com/computate-org/computate-vertx.git ~/computate-vertx\n",
    "echo DONE"
   ]
  },
  {
   "cell_type": "markdown",
   "id": "e06cdf67",
   "metadata": {},
   "source": [
    "Run the Ansible Playbook to configure and compile the `computate-vertx` project. "
   ]
  },
  {
   "cell_type": "code",
   "execution_count": null,
   "id": "07b88d5d-86f9-4ecd-b755-5f6fdfdcdd0e",
   "metadata": {
    "tags": [],
    "vscode": {
     "languageId": "shellscript"
    }
   },
   "outputs": [],
   "source": [
    "ansible-playbook ~/.ansible/roles/computate.computate_project/install.yaml \\\n",
    "  -e SITE_NAME=computate-vertx \\\n",
    "  -e SYSTEMD_ENABLED=false \\\n",
    "  -e SITE_PREFIX=/opt/app-root/src \\\n",
    "  -e SOLR_HOST_NAME=solr \\\n",
    "  -e SOLR_PORT=8983 \\\n",
    "  -e SOLR_SSL=false \\\n",
    "  -e SOLR_URL=\"http://solr:8983/solr/computate-vertx\" \\\n",
    "  -e SOLR_URL_COMPUTATE=\"http://solr:8983/solr/computate\" \\\n",
    "  -e POSTGRES_NAMESPACE=$(cat /var/run/secrets/kubernetes.io/serviceaccount/namespace) \\\n",
    "  -e ZOOKEEPER_NAMESPACE=$(cat /var/run/secrets/kubernetes.io/serviceaccount/namespace) \\\n",
    "  -e SOLR_NAMESPACE=$(cat /var/run/secrets/kubernetes.io/serviceaccount/namespace)\n",
    "echo DONE"
   ]
  },
  {
   "cell_type": "markdown",
   "id": "da41cd1d",
   "metadata": {},
   "source": [
    "Take a look at the `computate-vertx/config/computate-search.yaml` configuration file that was created based on your environment. "
   ]
  },
  {
   "cell_type": "code",
   "execution_count": null,
   "id": "b9667431",
   "metadata": {
    "vscode": {
     "languageId": "shellscript"
    }
   },
   "outputs": [],
   "source": [
    "cat ~/computate-vertx/config/computate-vertx.yaml\n",
    "echo DONE"
   ]
  },
  {
   "cell_type": "markdown",
   "id": "b9838e63",
   "metadata": {},
   "source": [
    "Run the `index.sh` shell script of the `computate` project on  the  `computate-vertx` project to index all of the `computate-vertx` Java classes into the Apache Solr search engine. "
   ]
  },
  {
   "cell_type": "code",
   "execution_count": null,
   "id": "5553d8bd-5e9c-45d5-8993-3c71f18fd9a7",
   "metadata": {
    "vscode": {
     "languageId": "shellscript"
    }
   },
   "outputs": [],
   "source": [
    "env SITE_NAME=computate-vertx \\\n",
    "  SITE_PATH=$HOME/computate-vertx \\\n",
    "  COMPUTATE_SRC=$HOME/computate \\\n",
    "  SITE_LANG=enUS \\\n",
    "  ~/computate/bin/enUS/index.sh\n",
    "echo DONE"
   ]
  },
  {
   "cell_type": "markdown",
   "id": "dbeaa181",
   "metadata": {},
   "source": [
    "Now query the Solr search engine to find out how many Java classes, constructors, methods, fields, and generated fields are found in the  `computate-vertx` project. "
   ]
  },
  {
   "cell_type": "code",
   "execution_count": null,
   "id": "77c36fe2",
   "metadata": {
    "vscode": {
     "languageId": "shellscript"
    }
   },
   "outputs": [],
   "source": [
    "curl -s 'http://solr:8983/solr/computate/query?rows=0&fq=siteNom_indexed_string:computate-vertx' -d \\\n",
    "  '{\n",
    "    \"query\": \"*:*\"\n",
    "    , \"facet\": {\n",
    "      \"classes\" : { \"type\": \"terms\", \"field\": \"classeNomSimple_enUS_indexed_string\", \"numBuckets\": true, \"limit\": 5 }\n",
    "      , \"constructors\" : { \"type\": \"terms\", \"field\": \"partEstConstructeur_indexed_boolean\" }\n",
    "      , \"methods\" : { \"type\": \"terms\", \"field\": \"partEstMethode_indexed_boolean\" }\n",
    "      , \"methodNames\" : { \"type\": \"terms\", \"field\": \"methodeVar_enUS_indexed_string\", \"numBuckets\": true, \"limit\": 5 }\n",
    "      , \"fields\" : { \"type\": \"terms\", \"field\": \"partEstChamp_indexed_boolean\" }\n",
    "      , \"fieldNames\" : { \"type\": \"terms\", \"field\": \"champVar_enUS_indexed_string\", \"numBuckets\": true, \"limit\": 5 }\n",
    "      , \"generatedFields\" : { \"type\": \"terms\", \"field\": \"partEstEntite_indexed_boolean\" }\n",
    "      , \"generatedFieldNames\" : { \"type\": \"terms\", \"field\": \"entiteVar_enUS_indexed_string\", \"numBuckets\": true, \"limit\": 5 }\n",
    "    }\n",
    "  }' | jq -r '\"\\(.facets.classes.numBuckets) Java classes (for example \\(.facets.classes.buckets | map(.val) | join(\", \")))\n",
    "\\(.facets.constructors.buckets[0].count) constructors\n",
    "\\(.facets.methods.buckets[0].count) methods (for example \\(.facets.methodNames.buckets | map(.val) | join(\", \")))\n",
    "\\(.facets.fields.buckets[0].count) fields (for example \\(.facets.fieldNames.buckets | map(.val) | join(\", \")))\n",
    "\\(.facets.generatedFields.buckets[0].count) new generated fields (for example \\(.facets.generatedFieldNames.buckets | map(.val) | join(\", \")))\"'\n",
    "echo DONE"
   ]
  },
  {
   "cell_type": "markdown",
   "id": "5b3bdee3",
   "metadata": {},
   "source": [
    "### Install the smartvillage-platform project\n",
    "\n",
    "The [smartvillage-platform project](https://github.com/computate-org/smartvillage-platform.git) is a Java project that integrates the computate-vertx and computate-search projects together with additional tools for smart cities. There are helper classes for working with latitude/longitude coordinates, angles and directions of vehicles, map results, models, search engine results, articles, page layouts, site users, and manages the package deployment of new release versions of the Smart Village Platform. "
   ]
  },
  {
   "cell_type": "code",
   "execution_count": null,
   "id": "bc511d9d",
   "metadata": {
    "vscode": {
     "languageId": "shellscript"
    }
   },
   "outputs": [],
   "source": [
    "git clone https://github.com/computate-org/smartvillage-platform.git ~/smartvillage-platform\n",
    "git clone https://github.com/computate-org/smartvillage-platform-static.git ~/smartvillage-platform-static\n",
    "echo DONE"
   ]
  },
  {
   "cell_type": "markdown",
   "id": "f3afa91a",
   "metadata": {},
   "source": [
    "Run the Ansible Playbook to configure and compile the `smartvillage-platform` project. "
   ]
  },
  {
   "cell_type": "code",
   "execution_count": null,
   "id": "be865113-6e75-46cc-a2cf-e4a2c6e4cfa5",
   "metadata": {
    "tags": [],
    "vscode": {
     "languageId": "shellscript"
    }
   },
   "outputs": [],
   "source": [
    "ansible-playbook ~/.ansible/roles/computate.computate_project/install.yaml \\\n",
    "  -e SITE_NAME=smartvillage-platform \\\n",
    "  -e SYSTEMD_ENABLED=false \\\n",
    "  -e SITE_PREFIX=/opt/app-root/src \\\n",
    "  -e SOLR_HOST_NAME=solr \\\n",
    "  -e SOLR_PORT=8983 \\\n",
    "  -e SOLR_SSL=false \\\n",
    "  -e SOLR_URL=\"http://solr:8983/solr/smartvillage-platform\" \\\n",
    "  -e SOLR_URL_COMPUTATE=\"http://solr:8983/solr/computate\" \\\n",
    "  -e POSTGRES_NAMESPACE=$(cat /var/run/secrets/kubernetes.io/serviceaccount/namespace) \\\n",
    "  -e ZOOKEEPER_NAMESPACE=$(cat /var/run/secrets/kubernetes.io/serviceaccount/namespace) \\\n",
    "  -e SOLR_NAMESPACE=$(cat /var/run/secrets/kubernetes.io/serviceaccount/namespace)\n",
    "echo DONE"
   ]
  },
  {
   "cell_type": "markdown",
   "id": "262865cf",
   "metadata": {},
   "source": [
    "Take a look at the `smartvillage-platform/config/smartvillage-platform.yaml` configuration file that was created based on your environment. "
   ]
  },
  {
   "cell_type": "code",
   "execution_count": null,
   "id": "d3dd253c",
   "metadata": {
    "vscode": {
     "languageId": "shellscript"
    }
   },
   "outputs": [],
   "source": [
    "cat ~/smartvillage-platform/config/smartvillage-platform.yaml\n",
    "echo DONE"
   ]
  },
  {
   "cell_type": "markdown",
   "id": "4dd6e884",
   "metadata": {},
   "source": [
    "Run the `index.sh` shell script of the `computate` project on  the  `smartvillage-platform` project to index all of the `smartvillage-platform` Java classes into the Apache Solr search engine. "
   ]
  },
  {
   "cell_type": "code",
   "execution_count": null,
   "id": "52ab0585-f3ea-44a3-bb05-1d187b549d80",
   "metadata": {
    "vscode": {
     "languageId": "shellscript"
    }
   },
   "outputs": [],
   "source": [
    "env SITE_NAME=smartvillage-platform \\\n",
    "  SITE_PATH=$HOME/smartvillage-platform \\\n",
    "  COMPUTATE_SRC=$HOME/computate \\\n",
    "  SITE_LANG=enUS \\\n",
    "  ~/computate/bin/enUS/index.sh\n",
    "echo DONE"
   ]
  },
  {
   "cell_type": "markdown",
   "id": "2ff6033e",
   "metadata": {},
   "source": [
    "Now query the Solr search engine to find out how many Java classes, constructors, methods, fields, and generated fields are found in the  `smartvillage-platform` project. "
   ]
  },
  {
   "cell_type": "code",
   "execution_count": null,
   "id": "617e4e0b",
   "metadata": {
    "vscode": {
     "languageId": "shellscript"
    }
   },
   "outputs": [],
   "source": [
    "curl -s 'http://solr:8983/solr/computate/query?rows=0&fq=siteNom_indexed_string:smartvillage-platform' -d \\\n",
    "  '{\n",
    "    \"query\": \"*:*\"\n",
    "    , \"facet\": {\n",
    "      \"classes\" : { \"type\": \"terms\", \"field\": \"classeNomSimple_enUS_indexed_string\", \"numBuckets\": true, \"limit\": 5 }\n",
    "      , \"constructors\" : { \"type\": \"terms\", \"field\": \"partEstConstructeur_indexed_boolean\" }\n",
    "      , \"methods\" : { \"type\": \"terms\", \"field\": \"partEstMethode_indexed_boolean\" }\n",
    "      , \"methodNames\" : { \"type\": \"terms\", \"field\": \"methodeVar_enUS_indexed_string\", \"numBuckets\": true, \"limit\": 5 }\n",
    "      , \"fields\" : { \"type\": \"terms\", \"field\": \"partEstChamp_indexed_boolean\" }\n",
    "      , \"fieldNames\" : { \"type\": \"terms\", \"field\": \"champVar_enUS_indexed_string\", \"numBuckets\": true, \"limit\": 5 }\n",
    "      , \"generatedFields\" : { \"type\": \"terms\", \"field\": \"partEstEntite_indexed_boolean\" }\n",
    "      , \"generatedFieldNames\" : { \"type\": \"terms\", \"field\": \"entiteVar_enUS_indexed_string\", \"numBuckets\": true, \"limit\": 5 }\n",
    "    }\n",
    "  }' | jq -r '\"\\(.facets.classes.numBuckets) Java classes (for example \\(.facets.classes.buckets | map(.val) | join(\", \")))\n",
    "\\(.facets.constructors.buckets[0].count) constructors\n",
    "\\(.facets.methods.buckets[0].count) methods (for example \\(.facets.methodNames.buckets | map(.val) | join(\", \")))\n",
    "\\(.facets.fields.buckets[0].count) fields (for example \\(.facets.fieldNames.buckets | map(.val) | join(\", \")))\n",
    "\\(.facets.generatedFields.buckets[0].count) new generated fields (for example \\(.facets.generatedFieldNames.buckets | map(.val) | join(\", \")))\"'\n",
    "echo DONE"
   ]
  },
  {
   "cell_type": "markdown",
   "id": "9214ed14",
   "metadata": {},
   "source": [
    "### Install the smartabyar-smartvillage project\n",
    "\n",
    "The [smartabyar-smartvillage project](https://github.com/computate-org/smartabyar-smartvillage.git) is a Java project that integrates the computate-vertx, computate-search, and smartvillage-platform projects together with additional tools for the village of Veberöd Sweden. We deploy smart devices to the application based on [FIWARE's Smart Data Models](https://github.com/smart-data-models) like [TrafficFlowObserved](https://github.com/smart-data-models/dataModel.Transportation/tree/f0eb02999cf6a4a29082e8bcd7fecb134264ae58/TrafficFlowObserved), and [CrowdFlowObserved](https://github.com/smart-data-models/dataModel.Transportation/tree/f0eb02999cf6a4a29082e8bcd7fecb134264ae58/CrowdFlowObserved) to track vehicle data moving through lanes of traffic, and count the number of people at a particular crosswalk. We also build new Smart Data Models like [TrafficSimulation](https://github.com/smartabyar-smartvillage/smartabyar-smartvillage-static/tree/main/fiware/TrafficSimulation), and [SmartTrafficLight](https://github.com/smartabyar-smartvillage/smartabyar-smartvillage-static/tree/main/fiware/SmartTrafficLight) to research, simulate, and prototype what real SmartTrafficLight data would look like in the village of Veberöd. We also build Simulation Reports to adjust parameters and report on the performance of traffic lights in an area based on running repeated simulations. "
   ]
  },
  {
   "cell_type": "code",
   "execution_count": null,
   "id": "b95ab409",
   "metadata": {
    "vscode": {
     "languageId": "shellscript"
    }
   },
   "outputs": [],
   "source": [
    "git clone https://github.com/computate-org/smartabyar-smartvillage.git ~/smartabyar-smartvillage\n",
    "git clone https://github.com/computate-org/smartabyar-smartvillage-static.git ~/smartabyar-smartvillage-static\n",
    "echo DONE"
   ]
  },
  {
   "cell_type": "markdown",
   "id": "60a1481c",
   "metadata": {},
   "source": [
    "Run the Ansible Playbook to configure and compile the `smartabyar-smartvillage` project. "
   ]
  },
  {
   "cell_type": "code",
   "execution_count": null,
   "id": "6a8c84e5-ab51-4d2b-8988-1571858257ee",
   "metadata": {
    "tags": [],
    "vscode": {
     "languageId": "shellscript"
    }
   },
   "outputs": [],
   "source": [
    "SITE_HOST_NAME=\"$(oc -n $(cat /var/run/secrets/kubernetes.io/serviceaccount/namespace) get route/smartvillage-web -o jsonpath={.spec.host})\"\n",
    "AUTH_CLIENT=\"$(oc -n $(cat /var/run/secrets/kubernetes.io/serviceaccount/namespace) get secret/smartvillage -o jsonpath={.data.CLIENT_ID} | base64 -d)\"\n",
    "AUTH_SECRET=\"$(oc -n $(cat /var/run/secrets/kubernetes.io/serviceaccount/namespace) get secret/smartvillage -o jsonpath={.data.CLIENT_SECRET} | base64 -d)\"\n",
    "\n",
    "ansible-playbook ~/.ansible/roles/computate.computate_project/install.yaml \\\n",
    "  -e SITE_NAME=smartabyar-smartvillage \\\n",
    "  -e SYSTEMD_ENABLED=false \\\n",
    "  -e SITE_PREFIX=/opt/app-root/src \\\n",
    "  -e SOLR_HOST_NAME_COMPUTATE=solr \\\n",
    "  -e SOLR_PORT_COMPUTATE=8983 \\\n",
    "  -e SOLR_SSL_COMPUTATE=false \\\n",
    "  -e SOLR_HOST_NAME=solr \\\n",
    "  -e SOLR_PORT=8983 \\\n",
    "  -e SOLR_SSL=false \\\n",
    "  -e SOLR_URL=\"http://solr:8983/solr/smartabyar-smartvillage\" \\\n",
    "  -e SOLR_URL_COMPUTATE=\"http://solr:8983/solr/computate\" \\\n",
    "  -e ZOOKEEPER_HOST_NAME=zookeeper \\\n",
    "  -e ZOOKEEPER_PORT=2181 \\\n",
    "  -e JDBC_HOST=postgres-smartvillage \\\n",
    "  -e JDBC_PORT=5432 \\\n",
    "  -e POSTGRES_NAMESPACE=$(cat /var/run/secrets/kubernetes.io/serviceaccount/namespace) \\\n",
    "  -e ZOOKEEPER_NAMESPACE=$(cat /var/run/secrets/kubernetes.io/serviceaccount/namespace) \\\n",
    "  -e SOLR_NAMESPACE=$(cat /var/run/secrets/kubernetes.io/serviceaccount/namespace) \\\n",
    "  -e SITE_BASE_URL=\"https://${SITE_HOST_NAME}\" \\\n",
    "  -e STATIC_BASE_URL=\"https://${SITE_HOST_NAME}/static\" \\\n",
    "  -e AUTH_CLIENT=\"${AUTH_CLIENT}\" \\\n",
    "  -e AUTH_SECRET=\"${AUTH_SECRET}\" \\\n",
    "  -e AUTH_ROLE_ADMIN=\"Public\" \\\n",
    "  -e ENABLE_KAFKA=false \\\n",
    "  -e ENABLE_IMPORT_DATA=false\n",
    "echo DONE"
   ]
  },
  {
   "cell_type": "markdown",
   "id": "008be7d1",
   "metadata": {},
   "source": [
    "Take a look at the `smartabyar-smartvillage/config/smartabyar-smartvillage.yaml` configuration file that was created based on your environment. "
   ]
  },
  {
   "cell_type": "code",
   "execution_count": null,
   "id": "55072863",
   "metadata": {
    "vscode": {
     "languageId": "shellscript"
    }
   },
   "outputs": [],
   "source": [
    "cat ~/smartabyar-smartvillage/config/smartabyar-smartvillage.yaml\n",
    "echo DONE"
   ]
  },
  {
   "cell_type": "markdown",
   "id": "ad244067",
   "metadata": {},
   "source": [
    "Run the `index.sh` shell script of the `computate` project on  the  `smartabyar-smartvillage` project to index all of the `smartabyar-smartvillage` Java classes into the Apache Solr search engine, and regenerate all the generated code for the project. "
   ]
  },
  {
   "cell_type": "code",
   "execution_count": null,
   "id": "67d80e4c-09e6-4751-91c5-e3734d7841c6",
   "metadata": {
    "vscode": {
     "languageId": "shellscript"
    }
   },
   "outputs": [],
   "source": [
    "env SITE_NAME=smartabyar-smartvillage \\\n",
    "  SITE_PATH=$HOME/smartabyar-smartvillage \\\n",
    "  COMPUTATE_SRC=$HOME/computate \\\n",
    "  SITE_LANG=enUS \\\n",
    "  ~/computate/bin/enUS/index.sh\n",
    "echo DONE"
   ]
  },
  {
   "cell_type": "markdown",
   "id": "2740c241",
   "metadata": {},
   "source": [
    "Now query the Solr search engine to find out how many Java classes, constructors, methods, fields, and generated fields are found in the  `smartabyar-smartvillage` project. "
   ]
  },
  {
   "cell_type": "code",
   "execution_count": null,
   "id": "2cf164e1",
   "metadata": {
    "vscode": {
     "languageId": "shellscript"
    }
   },
   "outputs": [],
   "source": [
    "curl -s 'http://solr:8983/solr/computate/query?rows=0&fq=siteNom_indexed_string:smartabyar-smartvillage' -d \\\n",
    "  '{\n",
    "    \"query\": \"*:*\"\n",
    "    , \"facet\": {\n",
    "      \"classes\" : { \"type\": \"terms\", \"field\": \"classeNomSimple_enUS_indexed_string\", \"numBuckets\": true, \"limit\": 5 }\n",
    "      , \"constructors\" : { \"type\": \"terms\", \"field\": \"partEstConstructeur_indexed_boolean\" }\n",
    "      , \"methods\" : { \"type\": \"terms\", \"field\": \"partEstMethode_indexed_boolean\" }\n",
    "      , \"methodNames\" : { \"type\": \"terms\", \"field\": \"methodeVar_enUS_indexed_string\", \"numBuckets\": true, \"limit\": 5 }\n",
    "      , \"fields\" : { \"type\": \"terms\", \"field\": \"partEstChamp_indexed_boolean\" }\n",
    "      , \"fieldNames\" : { \"type\": \"terms\", \"field\": \"champVar_enUS_indexed_string\", \"numBuckets\": true, \"limit\": 5 }\n",
    "      , \"generatedFields\" : { \"type\": \"terms\", \"field\": \"partEstEntite_indexed_boolean\" }\n",
    "      , \"generatedFieldNames\" : { \"type\": \"terms\", \"field\": \"entiteVar_enUS_indexed_string\", \"numBuckets\": true, \"limit\": 5 }\n",
    "    }\n",
    "  }' | jq -r '\"\\(.facets.classes.numBuckets) Java classes (for example \\(.facets.classes.buckets | map(.val) | join(\", \")))\n",
    "\\(.facets.constructors.buckets[0].count) constructors\n",
    "\\(.facets.methods.buckets[0].count) methods (for example \\(.facets.methodNames.buckets | map(.val) | join(\", \")))\n",
    "\\(.facets.fields.buckets[0].count) fields (for example \\(.facets.fieldNames.buckets | map(.val) | join(\", \")))\n",
    "\\(.facets.generatedFields.buckets[0].count) new generated fields (for example \\(.facets.generatedFieldNames.buckets | map(.val) | join(\", \")))\"'\n",
    "echo DONE"
   ]
  },
  {
   "cell_type": "markdown",
   "id": "f5962e5d-48c2-49c3-86cc-5f5d1ba7a8a6",
   "metadata": {
    "vscode": {
     "languageId": "shellscript"
    }
   },
   "source": [
    "### Clone and index all Smart Data Models\n",
    "\n",
    "Run the Ansible Playbook below to clone the hundreds of FIWARE Smart Data Models, and index each Smart Data Model in Apache Solr. We search this Smart Data Model data when we create new Java classes to see if there is a `SmartDataModel: search terms...` class comment in the code that closely matches a Smart Data Model in the Solr search engine, then we will generate all the code for this Smart Data Model automatically. "
   ]
  },
  {
   "cell_type": "code",
   "execution_count": null,
   "id": "096510a7",
   "metadata": {
    "vscode": {
     "languageId": "shellscript"
    }
   },
   "outputs": [],
   "source": [
    "ansible-playbook ~/smartvillage-operator/clone-smart-model-data.yaml -e PROJECT_PREFIX=\"$HOME\" -e SOLR_BASE_URL=\"http://solr:8983\"\n",
    "echo DONE"
   ]
  },
  {
   "cell_type": "markdown",
   "id": "d3c4ba5b",
   "metadata": {},
   "source": []
  }
 ],
 "metadata": {
  "kernelspec": {
   "display_name": "Bash",
   "language": "bash",
   "name": "bash"
  },
  "language_info": {
   "codemirror_mode": "shell",
   "file_extension": ".sh",
   "mimetype": "text/x-sh",
   "name": "bash"
  }
 },
 "nbformat": 4,
 "nbformat_minor": 5
}
