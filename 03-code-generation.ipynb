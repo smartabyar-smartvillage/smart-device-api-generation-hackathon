{
 "cells": [
  {
   "cell_type": "markdown",
   "id": "fb657b93-d1e1-4bc5-8b8f-25bd212beb85",
   "metadata": {},
   "source": [
    "# Smart Device API Code Generation Hackathon\n",
    "\n",
    "In this hackathon, we will be generating with AI/ML provided by the well established [computate project](https://github.com/computate-org/computate). We will automatically generate OpenAPI specs, database table schemas, Java POJOs, Vert.x Reactive Java APIs, Handlebars HTML page templates, JavaScript page and API functions, NGSI-LD Context data, OpenShift Custom Resource Definitions, and Ansible Operator roles and playbooks for any of the hundreds of open source Edge device data related [FIWARE Smart Data Models available here](https://github.com/smart-data-models). \n",
    "\n",
    "## Prerequisites\n",
    "To run the AI/ML code generation, you need to have completed the steps in the [README](README.md), [notebook 01-install-prerequisites.ipynb](01-install-prerequisites.ipynb), and [ notebook 02-deploy-microservices.ipynb](01-install-prerequisites.ipynb) to install the dependencies into the workbench, and deploy all the microservices. Then run the commands below in your OpenShift AI Workbench. "
   ]
  },
  {
   "cell_type": "markdown",
   "id": "b5611b31",
   "metadata": {},
   "source": [
    "## Clone Computate and Smart Village repos"
   ]
  },
  {
   "cell_type": "markdown",
   "id": "78894ab6",
   "metadata": {},
   "source": [
    "### Install the computate_project Ansible Role\n",
    "\n",
    "The [computate_project Ansible Role](https://github.com/computate-org/computate_project.git) is for installing Java projects that want to generate code for them using the [computate project](https://github.com/computate-org/computate.git). "
   ]
  },
  {
   "cell_type": "code",
   "execution_count": null,
   "id": "50663f45-25ce-4551-8550-0986e67369be",
   "metadata": {
    "vscode": {
     "languageId": "shellscript"
    }
   },
   "outputs": [],
   "source": [
    "install -d ~/.ansible/roles\n",
    "git clone https://github.com/computate-org/computate_project.git ~/.ansible/roles/computate.computate_project\n",
    "echo DONE"
   ]
  },
  {
   "cell_type": "markdown",
   "id": "0b621732",
   "metadata": {},
   "source": [
    "### Install the computate project\n",
    "\n",
    "The [computate project](https://github.com/computate-org/computate.git) is a Java project that watches for changes to files in a directory recursively, parses the Java code as it's created or updated, indexes every detail about each Java class, constructor, method, and field in the Apache Solr search engine, and generates code based on what it discovers. This is the main open source library that does the AI/ML code generation. Instead of a typical model server, we use Apache Solr as the model server. We can flexibly index every aspect about our Java code in Solr as we code over time, including multiple Java projects at the same time, and link together classes, types, and foreign key relations between projects. "
   ]
  },
  {
   "cell_type": "code",
   "execution_count": null,
   "id": "afb89892-f417-4fba-9c1c-d0f04d328af1",
   "metadata": {
    "vscode": {
     "languageId": "shellscript"
    }
   },
   "outputs": [],
   "source": [
    "git clone https://github.com/computate-org/computate.git ~/computate\n",
    "echo DONE"
   ]
  },
  {
   "cell_type": "markdown",
   "id": "729d687d",
   "metadata": {},
   "source": [
    "Use maven to compile and install the computate project in the workbench. "
   ]
  },
  {
   "cell_type": "code",
   "execution_count": null,
   "id": "354b35b8-213b-4151-a9b0-a2fba25ee86e",
   "metadata": {
    "tags": [],
    "vscode": {
     "languageId": "shellscript"
    }
   },
   "outputs": [],
   "source": [
    "(cd ~/computate &&  mvn clean install)\n",
    "echo DONE"
   ]
  },
  {
   "cell_type": "markdown",
   "id": "a1c3f4fe",
   "metadata": {},
   "source": [
    "### Install the computate-search project\n",
    "\n",
    "The [computate-search project](https://github.com/computate-org/computate-search.git) is a Java project that mainly interacts with Apache Solr to make search queries, and parse the response. There are also several date time serializers and deserializers for handling date times in requests. One other important class is the `Wrap` class which can wrap a Java field initialization value by it's generic type as part of the generated initialization code for each class. "
   ]
  },
  {
   "cell_type": "code",
   "execution_count": null,
   "id": "4eb25561",
   "metadata": {
    "vscode": {
     "languageId": "shellscript"
    }
   },
   "outputs": [],
   "source": [
    "git clone https://github.com/computate-org/computate-search.git ~/computate-search\n",
    "echo DONE"
   ]
  },
  {
   "cell_type": "markdown",
   "id": "082e9e0f",
   "metadata": {},
   "source": [
    "Run the Ansible Playbook to configure and compile the `computate-search` project. "
   ]
  },
  {
   "cell_type": "code",
   "execution_count": null,
   "id": "eff18d30-1f7b-4503-8358-e140ab9aaffb",
   "metadata": {
    "tags": [],
    "vscode": {
     "languageId": "shellscript"
    }
   },
   "outputs": [],
   "source": [
    "ansible-playbook ~/.ansible/roles/computate.computate_project/install.yml \\\n",
    "  -e SITE_NAME=computate-search \\\n",
    "  -e SYSTEMD_ENABLED=false \\\n",
    "  -e SITE_PREFIX=/opt/app-root/src \\\n",
    "  -e SOLR_HOST_NAME=solr \\\n",
    "  -e SOLR_PORT=8983 \\\n",
    "  -e SOLR_SSL=false \\\n",
    "  -e SOLR_URL=\"http://solr:8983/solr/computate-search\" \\\n",
    "  -e SOLR_URL_COMPUTATE=\"http://solr:8983/solr/computate\" \\\n",
    "  -e POSTGRES_NAMESPACE=$(cat /var/run/secrets/kubernetes.io/serviceaccount/namespace) \\\n",
    "  -e ZOOKEEPER_NAMESPACE=$(cat /var/run/secrets/kubernetes.io/serviceaccount/namespace) \\\n",
    "  -e SOLR_NAMESPACE=$(cat /var/run/secrets/kubernetes.io/serviceaccount/namespace)\n",
    "echo DONE"
   ]
  },
  {
   "cell_type": "markdown",
   "id": "7af2f091",
   "metadata": {},
   "source": [
    "Take a look at the `computate-search/config/computate-search.yml` configuration file that was created based on your environment. "
   ]
  },
  {
   "cell_type": "code",
   "execution_count": null,
   "id": "237dab0c-ac5f-432a-9ae4-e12839655ffd",
   "metadata": {
    "vscode": {
     "languageId": "shellscript"
    }
   },
   "outputs": [],
   "source": [
    "cat ~/computate-search/config/computate-search.yml\n",
    "echo DONE"
   ]
  },
  {
   "cell_type": "markdown",
   "id": "0cdcb9d6",
   "metadata": {},
   "source": [
    "Run the `index.sh` shell script of the `computate` project on  the  `computate-search` project to index all of the `computate-search` Java classes into the Apache Solr search engine. "
   ]
  },
  {
   "cell_type": "code",
   "execution_count": null,
   "id": "d99f82e6",
   "metadata": {
    "vscode": {
     "languageId": "shellscript"
    }
   },
   "outputs": [],
   "source": [
    "env SITE_NAME=computate-search \\\n",
    "  SITE_PATH=$HOME/computate-search \\\n",
    "  COMPUTATE_SRC=$HOME/computate \\\n",
    "  SITE_LANG=enUS \\\n",
    "  ~/computate/bin/enUS/index.sh\n",
    "echo DONE"
   ]
  },
  {
   "cell_type": "markdown",
   "id": "f4162a9f",
   "metadata": {},
   "source": [
    "Now query the Solr search engine to find out how many Java classes, constructors, methods, fields, and generated fields are found in the  `computate-search` project. "
   ]
  },
  {
   "cell_type": "code",
   "execution_count": null,
   "id": "dde0f1bb",
   "metadata": {
    "vscode": {
     "languageId": "shellscript"
    }
   },
   "outputs": [],
   "source": [
    "curl -s 'http://solr:8983/solr/computate/query?rows=0&fq=siteNom_indexed_string:computate-search' -d \\\n",
    "  '{\n",
    "    \"query\": \"*:*\"\n",
    "    , \"facet\": {\n",
    "      \"classes\" : { \"type\": \"terms\", \"field\": \"classeNomSimple_enUS_indexed_string\", \"numBuckets\": true, \"limit\": 5 }\n",
    "      , \"constructors\" : { \"type\": \"terms\", \"field\": \"partEstConstructeur_indexed_boolean\" }\n",
    "      , \"methods\" : { \"type\": \"terms\", \"field\": \"partEstMethode_indexed_boolean\" }\n",
    "      , \"methodNames\" : { \"type\": \"terms\", \"field\": \"methodeVar_enUS_indexed_string\", \"numBuckets\": true, \"limit\": 5 }\n",
    "      , \"fields\" : { \"type\": \"terms\", \"field\": \"partEstChamp_indexed_boolean\" }\n",
    "      , \"fieldNames\" : { \"type\": \"terms\", \"field\": \"champVar_enUS_indexed_string\", \"numBuckets\": true, \"limit\": 5 }\n",
    "      , \"generatedFields\" : { \"type\": \"terms\", \"field\": \"partEstEntite_indexed_boolean\" }\n",
    "      , \"generatedFieldNames\" : { \"type\": \"terms\", \"field\": \"entiteVar_enUS_indexed_string\", \"numBuckets\": true, \"limit\": 5 }\n",
    "    }\n",
    "  }' | jq -r '\"\\(.facets.classes.numBuckets) Java classes (for example \\(.facets.classes.buckets | map(.val) | join(\", \")))\n",
    "\\(.facets.constructors.buckets[0].count) constructors\n",
    "\\(.facets.methods.buckets[0].count) methods (for example \\(.facets.methodNames.buckets | map(.val) | join(\", \")))\n",
    "\\(.facets.fields.buckets[0].count) fields (for example \\(.facets.fieldNames.buckets | map(.val) | join(\", \")))\n",
    "\\(.facets.generatedFields.buckets[0].count) new generated fields (for example \\(.facets.generatedFieldNames.buckets | map(.val) | join(\", \")))\"'\n",
    "echo DONE"
   ]
  },
  {
   "cell_type": "markdown",
   "id": "3b52068c",
   "metadata": {},
   "source": [
    "### Install the computate-vertx project\n",
    "\n",
    "The [computate-vertx project](https://github.com/computate-org/computate-vertx.git) is a Java project that integrates Vert.x libraries into a project for reactive, event-bus driven software development. There is additional search capabilities built in to perform searches to Apache Solr asynchronously. There is PostgreSQL database integration with serializers and deserializers for GeoJson fields. Additional Vert.x tools, OpenAPI schema writers, boiler plate code project writers, FIWARE and NGSI-LD context writers, OpenID Connect/OAuth2 authentication/authorization handlers, Handlebars HTML Template handlers, and a base API Java Interface for building powerful, reactive secure APIs for anything. "
   ]
  },
  {
   "cell_type": "code",
   "execution_count": null,
   "id": "4013be68",
   "metadata": {
    "vscode": {
     "languageId": "shellscript"
    }
   },
   "outputs": [],
   "source": [
    "git clone https://github.com/computate-org/computate-vertx.git ~/computate-vertx\n",
    "echo DONE"
   ]
  },
  {
   "cell_type": "markdown",
   "id": "e06cdf67",
   "metadata": {},
   "source": [
    "Run the Ansible Playbook to configure and compile the `computate-vertx` project. "
   ]
  },
  {
   "cell_type": "code",
   "execution_count": null,
   "id": "07b88d5d-86f9-4ecd-b755-5f6fdfdcdd0e",
   "metadata": {
    "tags": [],
    "vscode": {
     "languageId": "shellscript"
    }
   },
   "outputs": [],
   "source": [
    "ansible-playbook ~/.ansible/roles/computate.computate_project/install.yml \\\n",
    "  -e SITE_NAME=computate-vertx \\\n",
    "  -e SYSTEMD_ENABLED=false \\\n",
    "  -e SITE_PREFIX=/opt/app-root/src \\\n",
    "  -e SOLR_HOST_NAME=solr \\\n",
    "  -e SOLR_PORT=8983 \\\n",
    "  -e SOLR_SSL=false \\\n",
    "  -e SOLR_URL=\"http://solr:8983/solr/computate-vertx\" \\\n",
    "  -e SOLR_URL_COMPUTATE=\"http://solr:8983/solr/computate\" \\\n",
    "  -e POSTGRES_NAMESPACE=$(cat /var/run/secrets/kubernetes.io/serviceaccount/namespace) \\\n",
    "  -e ZOOKEEPER_NAMESPACE=$(cat /var/run/secrets/kubernetes.io/serviceaccount/namespace) \\\n",
    "  -e SOLR_NAMESPACE=$(cat /var/run/secrets/kubernetes.io/serviceaccount/namespace)\n",
    "echo DONE"
   ]
  },
  {
   "cell_type": "markdown",
   "id": "da41cd1d",
   "metadata": {},
   "source": [
    "Take a look at the `computate-vertx/config/computate-search.yml` configuration file that was created based on your environment. "
   ]
  },
  {
   "cell_type": "code",
   "execution_count": null,
   "id": "b9667431",
   "metadata": {
    "vscode": {
     "languageId": "shellscript"
    }
   },
   "outputs": [],
   "source": [
    "cat ~/computate-vertx/config/computate-vertx.yml\n",
    "echo DONE"
   ]
  },
  {
   "cell_type": "markdown",
   "id": "b9838e63",
   "metadata": {},
   "source": [
    "Run the `index.sh` shell script of the `computate` project on  the  `computate-vertx` project to index all of the `computate-vertx` Java classes into the Apache Solr search engine. "
   ]
  },
  {
   "cell_type": "code",
   "execution_count": null,
   "id": "5553d8bd-5e9c-45d5-8993-3c71f18fd9a7",
   "metadata": {
    "vscode": {
     "languageId": "shellscript"
    }
   },
   "outputs": [],
   "source": [
    "env SITE_NAME=computate-vertx \\\n",
    "  SITE_PATH=$HOME/computate-vertx \\\n",
    "  COMPUTATE_SRC=$HOME/computate \\\n",
    "  SITE_LANG=enUS \\\n",
    "  ~/computate/bin/enUS/index.sh\n",
    "echo DONE"
   ]
  },
  {
   "cell_type": "markdown",
   "id": "dbeaa181",
   "metadata": {},
   "source": [
    "Now query the Solr search engine to find out how many Java classes, constructors, methods, fields, and generated fields are found in the  `computate-vertx` project. "
   ]
  },
  {
   "cell_type": "code",
   "execution_count": null,
   "id": "77c36fe2",
   "metadata": {
    "vscode": {
     "languageId": "shellscript"
    }
   },
   "outputs": [],
   "source": [
    "curl -s 'http://solr:8983/solr/computate/query?rows=0&fq=siteNom_indexed_string:computate-vertx' -d \\\n",
    "  '{\n",
    "    \"query\": \"*:*\"\n",
    "    , \"facet\": {\n",
    "      \"classes\" : { \"type\": \"terms\", \"field\": \"classeNomSimple_enUS_indexed_string\", \"numBuckets\": true, \"limit\": 5 }\n",
    "      , \"constructors\" : { \"type\": \"terms\", \"field\": \"partEstConstructeur_indexed_boolean\" }\n",
    "      , \"methods\" : { \"type\": \"terms\", \"field\": \"partEstMethode_indexed_boolean\" }\n",
    "      , \"methodNames\" : { \"type\": \"terms\", \"field\": \"methodeVar_enUS_indexed_string\", \"numBuckets\": true, \"limit\": 5 }\n",
    "      , \"fields\" : { \"type\": \"terms\", \"field\": \"partEstChamp_indexed_boolean\" }\n",
    "      , \"fieldNames\" : { \"type\": \"terms\", \"field\": \"champVar_enUS_indexed_string\", \"numBuckets\": true, \"limit\": 5 }\n",
    "      , \"generatedFields\" : { \"type\": \"terms\", \"field\": \"partEstEntite_indexed_boolean\" }\n",
    "      , \"generatedFieldNames\" : { \"type\": \"terms\", \"field\": \"entiteVar_enUS_indexed_string\", \"numBuckets\": true, \"limit\": 5 }\n",
    "    }\n",
    "  }' | jq -r '\"\\(.facets.classes.numBuckets) Java classes (for example \\(.facets.classes.buckets | map(.val) | join(\", \")))\n",
    "\\(.facets.constructors.buckets[0].count) constructors\n",
    "\\(.facets.methods.buckets[0].count) methods (for example \\(.facets.methodNames.buckets | map(.val) | join(\", \")))\n",
    "\\(.facets.fields.buckets[0].count) fields (for example \\(.facets.fieldNames.buckets | map(.val) | join(\", \")))\n",
    "\\(.facets.generatedFields.buckets[0].count) new generated fields (for example \\(.facets.generatedFieldNames.buckets | map(.val) | join(\", \")))\"'\n",
    "echo DONE"
   ]
  },
  {
   "cell_type": "markdown",
   "id": "5b3bdee3",
   "metadata": {},
   "source": [
    "### Install the smartvillage-platform project\n",
    "\n",
    "The [smartvillage-platform project](https://github.com/computate-org/smartvillage-platform.git) is a Java project that integrates the computate-vertx and computate-search projects together with additional tools for smart cities. There are helper classes for working with latitude/longitude coordinates, angles and directions of vehicles, map results, models, search engine results, articles, page layouts, site users, and manages the package deployment of new release versions of the Smart Village Platform. "
   ]
  },
  {
   "cell_type": "code",
   "execution_count": null,
   "id": "bc511d9d",
   "metadata": {
    "vscode": {
     "languageId": "shellscript"
    }
   },
   "outputs": [],
   "source": [
    "git clone https://github.com/computate-org/smartvillage-platform.git ~/smartvillage-platform\n",
    "git clone https://github.com/computate-org/smartvillage-platform-static.git ~/smartvillage-platform-static\n",
    "echo DONE"
   ]
  },
  {
   "cell_type": "markdown",
   "id": "f3afa91a",
   "metadata": {},
   "source": [
    "Run the Ansible Playbook to configure and compile the `smartvillage-platform` project. "
   ]
  },
  {
   "cell_type": "code",
   "execution_count": null,
   "id": "be865113-6e75-46cc-a2cf-e4a2c6e4cfa5",
   "metadata": {
    "tags": [],
    "vscode": {
     "languageId": "shellscript"
    }
   },
   "outputs": [],
   "source": [
    "ansible-playbook ~/.ansible/roles/computate.computate_project/install.yml \\\n",
    "  -e SITE_NAME=smartvillage-platform \\\n",
    "  -e SYSTEMD_ENABLED=false \\\n",
    "  -e SITE_PREFIX=/opt/app-root/src \\\n",
    "  -e SOLR_HOST_NAME=solr \\\n",
    "  -e SOLR_PORT=8983 \\\n",
    "  -e SOLR_SSL=false \\\n",
    "  -e SOLR_URL=\"http://solr:8983/solr/smartvillage-platform\" \\\n",
    "  -e SOLR_URL_COMPUTATE=\"http://solr:8983/solr/computate\" \\\n",
    "  -e POSTGRES_NAMESPACE=$(cat /var/run/secrets/kubernetes.io/serviceaccount/namespace) \\\n",
    "  -e ZOOKEEPER_NAMESPACE=$(cat /var/run/secrets/kubernetes.io/serviceaccount/namespace) \\\n",
    "  -e SOLR_NAMESPACE=$(cat /var/run/secrets/kubernetes.io/serviceaccount/namespace)\n",
    "echo DONE"
   ]
  },
  {
   "cell_type": "markdown",
   "id": "262865cf",
   "metadata": {},
   "source": [
    "Take a look at the `smartvillage-platform/config/smartvillage-platform.yml` configuration file that was created based on your environment. "
   ]
  },
  {
   "cell_type": "code",
   "execution_count": null,
   "id": "d3dd253c",
   "metadata": {
    "vscode": {
     "languageId": "shellscript"
    }
   },
   "outputs": [],
   "source": [
    "cat ~/smartvillage-platform/config/smartvillage-platform.yml\n",
    "echo DONE"
   ]
  },
  {
   "cell_type": "markdown",
   "id": "4dd6e884",
   "metadata": {},
   "source": [
    "Run the `index.sh` shell script of the `computate` project on  the  `smartvillage-platform` project to index all of the `smartvillage-platform` Java classes into the Apache Solr search engine. "
   ]
  },
  {
   "cell_type": "code",
   "execution_count": null,
   "id": "52ab0585-f3ea-44a3-bb05-1d187b549d80",
   "metadata": {
    "vscode": {
     "languageId": "shellscript"
    }
   },
   "outputs": [],
   "source": [
    "env SITE_NAME=smartvillage-platform \\\n",
    "  SITE_PATH=$HOME/smartvillage-platform \\\n",
    "  COMPUTATE_SRC=$HOME/computate \\\n",
    "  SITE_LANG=enUS \\\n",
    "  ~/computate/bin/enUS/index.sh\n",
    "echo DONE"
   ]
  },
  {
   "cell_type": "markdown",
   "id": "2ff6033e",
   "metadata": {},
   "source": [
    "Now query the Solr search engine to find out how many Java classes, constructors, methods, fields, and generated fields are found in the  `smartvillage-platform` project. "
   ]
  },
  {
   "cell_type": "code",
   "execution_count": null,
   "id": "617e4e0b",
   "metadata": {
    "vscode": {
     "languageId": "shellscript"
    }
   },
   "outputs": [],
   "source": [
    "curl -s 'http://solr:8983/solr/computate/query?rows=0&fq=siteNom_indexed_string:smartvillage-platform' -d \\\n",
    "  '{\n",
    "    \"query\": \"*:*\"\n",
    "    , \"facet\": {\n",
    "      \"classes\" : { \"type\": \"terms\", \"field\": \"classeNomSimple_enUS_indexed_string\", \"numBuckets\": true, \"limit\": 5 }\n",
    "      , \"constructors\" : { \"type\": \"terms\", \"field\": \"partEstConstructeur_indexed_boolean\" }\n",
    "      , \"methods\" : { \"type\": \"terms\", \"field\": \"partEstMethode_indexed_boolean\" }\n",
    "      , \"methodNames\" : { \"type\": \"terms\", \"field\": \"methodeVar_enUS_indexed_string\", \"numBuckets\": true, \"limit\": 5 }\n",
    "      , \"fields\" : { \"type\": \"terms\", \"field\": \"partEstChamp_indexed_boolean\" }\n",
    "      , \"fieldNames\" : { \"type\": \"terms\", \"field\": \"champVar_enUS_indexed_string\", \"numBuckets\": true, \"limit\": 5 }\n",
    "      , \"generatedFields\" : { \"type\": \"terms\", \"field\": \"partEstEntite_indexed_boolean\" }\n",
    "      , \"generatedFieldNames\" : { \"type\": \"terms\", \"field\": \"entiteVar_enUS_indexed_string\", \"numBuckets\": true, \"limit\": 5 }\n",
    "    }\n",
    "  }' | jq -r '\"\\(.facets.classes.numBuckets) Java classes (for example \\(.facets.classes.buckets | map(.val) | join(\", \")))\n",
    "\\(.facets.constructors.buckets[0].count) constructors\n",
    "\\(.facets.methods.buckets[0].count) methods (for example \\(.facets.methodNames.buckets | map(.val) | join(\", \")))\n",
    "\\(.facets.fields.buckets[0].count) fields (for example \\(.facets.fieldNames.buckets | map(.val) | join(\", \")))\n",
    "\\(.facets.generatedFields.buckets[0].count) new generated fields (for example \\(.facets.generatedFieldNames.buckets | map(.val) | join(\", \")))\"'\n",
    "echo DONE"
   ]
  },
  {
   "cell_type": "markdown",
   "id": "9214ed14",
   "metadata": {},
   "source": [
    "### Install the smartabyar-smartvillage project\n",
    "\n",
    "The [smartabyar-smartvillage project](https://github.com/computate-org/smartabyar-smartvillage.git) is a Java project that integrates the computate-vertx, computate-search, and smartvillage-platform projects together with additional tools for the village of Veberöd Sweden. We deploy smart devices to the application based on [FIWARE's Smart Data Models](https://github.com/smart-data-models) like [TrafficFlowObserved](https://github.com/smart-data-models/dataModel.Transportation/tree/f0eb02999cf6a4a29082e8bcd7fecb134264ae58/TrafficFlowObserved), and [CrowdFlowObserved](https://github.com/smart-data-models/dataModel.Transportation/tree/f0eb02999cf6a4a29082e8bcd7fecb134264ae58/CrowdFlowObserved) to track vehicle data moving through lanes of traffic, and count the number of people at a particular crosswalk. We also build new Smart Data Models like [TrafficSimulation](https://github.com/smartabyar-smartvillage/smartabyar-smartvillage-static/tree/main/fiware/TrafficSimulation), and [SmartTrafficLight](https://github.com/smartabyar-smartvillage/smartabyar-smartvillage-static/tree/main/fiware/SmartTrafficLight) to research, simulate, and prototype what real SmartTrafficLight data would look like in the village of Veberöd. We also build Simulation Reports to adjust parameters and report on the performance of traffic lights in an area based on running repeated simulations. "
   ]
  },
  {
   "cell_type": "code",
   "execution_count": null,
   "id": "b95ab409",
   "metadata": {
    "vscode": {
     "languageId": "shellscript"
    }
   },
   "outputs": [],
   "source": [
    "git clone https://github.com/computate-org/smartabyar-smartvillage.git ~/smartabyar-smartvillage\n",
    "git clone https://github.com/computate-org/smartabyar-smartvillage-static.git ~/smartabyar-smartvillage-static\n",
    "echo DONE"
   ]
  },
  {
   "cell_type": "markdown",
   "id": "60a1481c",
   "metadata": {},
   "source": [
    "Run the Ansible Playbook to configure and compile the `smartabyar-smartvillage` project. "
   ]
  },
  {
   "cell_type": "code",
   "execution_count": null,
   "id": "6a8c84e5-ab51-4d2b-8988-1571858257ee",
   "metadata": {
    "tags": [],
    "vscode": {
     "languageId": "shellscript"
    }
   },
   "outputs": [],
   "source": [
    "SITE_HOST_NAME=\"$(oc -n $(cat /var/run/secrets/kubernetes.io/serviceaccount/namespace) get route/vscode-devel -o jsonpath={.spec.host})\"\n",
    "AUTH_CLIENT=\"$(oc -n $(cat /var/run/secrets/kubernetes.io/serviceaccount/namespace) get secret/smartvillage -o jsonpath={.data.CLIENT_ID} | base64 -d)\"\n",
    "AUTH_SECRET=\"$(oc -n $(cat /var/run/secrets/kubernetes.io/serviceaccount/namespace) get secret/smartvillage -o jsonpath={.data.CLIENT_SECRET} | base64 -d)\"\n",
    "\n",
    "ansible-playbook ~/.ansible/roles/computate.computate_project/install.yml \\\n",
    "  -e SITE_NAME=smartabyar-smartvillage \\\n",
    "  -e SYSTEMD_ENABLED=false \\\n",
    "  -e SITE_PREFIX=/opt/app-root/src \\\n",
    "  -e SOLR_HOST_NAME_COMPUTATE=solr \\\n",
    "  -e SOLR_PORT_COMPUTATE=8983 \\\n",
    "  -e SOLR_SSL_COMPUTATE=false \\\n",
    "  -e SOLR_HOST_NAME=solr \\\n",
    "  -e SOLR_PORT=8983 \\\n",
    "  -e SOLR_SSL=false \\\n",
    "  -e SOLR_URL=\"http://solr:8983/solr/smartabyar-smartvillage\" \\\n",
    "  -e SOLR_URL_COMPUTATE=\"http://solr:8983/solr/computate\" \\\n",
    "  -e ZOOKEEPER_HOST_NAME=zookeeper \\\n",
    "  -e ZOOKEEPER_PORT=2181 \\\n",
    "  -e JDBC_HOST=postgres-smartvillage \\\n",
    "  -e JDBC_PORT=5432 \\\n",
    "  -e POSTGRES_NAMESPACE=$(cat /var/run/secrets/kubernetes.io/serviceaccount/namespace) \\\n",
    "  -e ZOOKEEPER_NAMESPACE=$(cat /var/run/secrets/kubernetes.io/serviceaccount/namespace) \\\n",
    "  -e SOLR_NAMESPACE=$(cat /var/run/secrets/kubernetes.io/serviceaccount/namespace) \\\n",
    "  -e SITE_BASE_URL=\"https://${SITE_HOST_NAME}\" \\\n",
    "  -e STATIC_BASE_URL=\"https://${SITE_HOST_NAME}/static\" \\\n",
    "  -e AUTH_CLIENT=\"${AUTH_CLIENT}\" \\\n",
    "  -e AUTH_SECRET=\"${AUTH_SECRET}\" \\\n",
    "  -e AUTH_ROLE_ADMIN=\"Public\" \\\n",
    "  -e ENABLE_KAFKA=false \\\n",
    "  -e ENABLE_IMPORT_DATA=false\n",
    "echo DONE"
   ]
  },
  {
   "cell_type": "markdown",
   "id": "008be7d1",
   "metadata": {},
   "source": [
    "Take a look at the `smartabyar-smartvillage/config/smartabyar-smartvillage.yml` configuration file that was created based on your environment. "
   ]
  },
  {
   "cell_type": "code",
   "execution_count": null,
   "id": "55072863",
   "metadata": {
    "vscode": {
     "languageId": "shellscript"
    }
   },
   "outputs": [],
   "source": [
    "cat ~/smartabyar-smartvillage/config/smartabyar-smartvillage.yml\n",
    "echo DONE"
   ]
  },
  {
   "cell_type": "markdown",
   "id": "ad244067",
   "metadata": {},
   "source": [
    "Run the `index.sh` shell script of the `computate` project on  the  `smartabyar-smartvillage` project to index all of the `smartabyar-smartvillage` Java classes into the Apache Solr search engine, and regenerate all the generated code for the project. "
   ]
  },
  {
   "cell_type": "code",
   "execution_count": null,
   "id": "67d80e4c-09e6-4751-91c5-e3734d7841c6",
   "metadata": {
    "vscode": {
     "languageId": "shellscript"
    }
   },
   "outputs": [],
   "source": [
    "env SITE_NAME=smartabyar-smartvillage \\\n",
    "  SITE_PATH=$HOME/smartabyar-smartvillage \\\n",
    "  COMPUTATE_SRC=$HOME/computate \\\n",
    "  SITE_LANG=enUS \\\n",
    "  ~/computate/bin/enUS/index.sh\n",
    "echo DONE"
   ]
  },
  {
   "cell_type": "markdown",
   "id": "2740c241",
   "metadata": {},
   "source": [
    "Now query the Solr search engine to find out how many Java classes, constructors, methods, fields, and generated fields are found in the  `smartabyar-smartvillage` project. "
   ]
  },
  {
   "cell_type": "code",
   "execution_count": null,
   "id": "2cf164e1",
   "metadata": {
    "vscode": {
     "languageId": "shellscript"
    }
   },
   "outputs": [],
   "source": [
    "curl -s 'http://solr:8983/solr/computate/query?rows=0&fq=siteNom_indexed_string:smartabyar-smartvillage' -d \\\n",
    "  '{\n",
    "    \"query\": \"*:*\"\n",
    "    , \"facet\": {\n",
    "      \"classes\" : { \"type\": \"terms\", \"field\": \"classeNomSimple_enUS_indexed_string\", \"numBuckets\": true, \"limit\": 5 }\n",
    "      , \"constructors\" : { \"type\": \"terms\", \"field\": \"partEstConstructeur_indexed_boolean\" }\n",
    "      , \"methods\" : { \"type\": \"terms\", \"field\": \"partEstMethode_indexed_boolean\" }\n",
    "      , \"methodNames\" : { \"type\": \"terms\", \"field\": \"methodeVar_enUS_indexed_string\", \"numBuckets\": true, \"limit\": 5 }\n",
    "      , \"fields\" : { \"type\": \"terms\", \"field\": \"partEstChamp_indexed_boolean\" }\n",
    "      , \"fieldNames\" : { \"type\": \"terms\", \"field\": \"champVar_enUS_indexed_string\", \"numBuckets\": true, \"limit\": 5 }\n",
    "      , \"generatedFields\" : { \"type\": \"terms\", \"field\": \"partEstEntite_indexed_boolean\" }\n",
    "      , \"generatedFieldNames\" : { \"type\": \"terms\", \"field\": \"entiteVar_enUS_indexed_string\", \"numBuckets\": true, \"limit\": 5 }\n",
    "    }\n",
    "  }' | jq -r '\"\\(.facets.classes.numBuckets) Java classes (for example \\(.facets.classes.buckets | map(.val) | join(\", \")))\n",
    "\\(.facets.constructors.buckets[0].count) constructors\n",
    "\\(.facets.methods.buckets[0].count) methods (for example \\(.facets.methodNames.buckets | map(.val) | join(\", \")))\n",
    "\\(.facets.fields.buckets[0].count) fields (for example \\(.facets.fieldNames.buckets | map(.val) | join(\", \")))\n",
    "\\(.facets.generatedFields.buckets[0].count) new generated fields (for example \\(.facets.generatedFieldNames.buckets | map(.val) | join(\", \")))\"'\n",
    "echo DONE"
   ]
  },
  {
   "cell_type": "markdown",
   "id": "f5962e5d-48c2-49c3-86cc-5f5d1ba7a8a6",
   "metadata": {
    "vscode": {
     "languageId": "shellscript"
    }
   },
   "source": [
    "### Clone and index all Smart Data Models\n",
    "\n",
    "Run the Ansible Playbook below to clone the hundreds of FIWARE Smart Data Models, and index each Smart Data Model in Apache Solr. We search this Smart Data Model data when we create new Java classes to see if there is a `SmartDataModel: search terms...` class comment in the code that closely matches a Smart Data Model in the Solr search engine, then we will generate all the code for this Smart Data Model automatically. "
   ]
  },
  {
   "cell_type": "code",
   "execution_count": null,
   "id": "096510a7",
   "metadata": {
    "vscode": {
     "languageId": "shellscript"
    }
   },
   "outputs": [],
   "source": [
    "ansible-playbook ~/smartvillage-operator/clone-smart-model-data.yml -e PROJECT_PREFIX=\"$HOME\" -e SOLR_BASE_URL=\"http://solr:8983\"\n",
    "echo DONE"
   ]
  },
  {
   "cell_type": "markdown",
   "id": "20f6539f",
   "metadata": {},
   "source": [
    "### Watch Smarta Byar Smart Village code for changes\n",
    "\n",
    "Run the following command below in a terminal inside of VSCode. \n",
    "- Click on the menu in the very top left of VSCode -> Terminal -> New Terminal\n",
    "- Move the terminal tab to the bottom of the VSCode window so that the course and the terminal are visible. \n",
    "- Select the command below by selecting the text starting with `env ` and ending with `watch.sh`. \n",
    "- Copy the command to the clipboard by pressing [ Ctrl ] + [ Insert ]. \n",
    "- Paste the command into the terminal by pressing [ Shift ] + [ Insert], then press [ Enter ]. \n",
    "- The command will reindex all the Java classes in the `smartabyar-smartvillage` project. \n",
    "- Wait until the indexing is complete and the terminal displays `Ready`. "
   ]
  },
  {
   "cell_type": "markdown",
   "id": "ab8d1199",
   "metadata": {},
   "source": [
    "env SITE_NAME=smartabyar-smartvillage SITE_PATH=$HOME/smartabyar-smartvillage COMPUTATE_SRC=$HOME/computate SITE_LANG=enUS $HOME/computate/bin/enUS/watch.sh"
   ]
  },
  {
   "cell_type": "markdown",
   "id": "46ce666c",
   "metadata": {},
   "source": [
    "## Creating a new PhotovoltaicMeasurement Java Class based on the Smart Data Model\n",
    "\n",
    "Now it's time to create a new Java class called `PhotovoltaicMeasurement.java`, and then you will generate all the code for it to represent a real Smart Data Model. "
   ]
  },
  {
   "cell_type": "code",
   "execution_count": null,
   "id": "c0385ad8",
   "metadata": {
    "vscode": {
     "languageId": "shellscript"
    }
   },
   "outputs": [],
   "source": [
    "mkdir -p ~/smartabyar-smartvillage/src/main/java/org/computate/smartvillage/enus/model/photovoltaicmeasurement/\n",
    "echo 'package org.computate.smartvillage.enus.model.photovoltaicmeasurement;\n",
    "\n",
    "public class PhotovoltaicMeasurement {\n",
    "}\n",
    "' | tee ~/smartabyar-smartvillage/src/main/java/org/computate/smartvillage/enus/model/photovoltaicmeasurement/PhotovoltaicMeasurement.java >/dev/null\n",
    "echo DONE"
   ]
  },
  {
   "cell_type": "markdown",
   "id": "ff80ec4e",
   "metadata": {},
   "source": [
    "You should notice some output in the terminal below where it mentioned `PhotovoltaicMeasurement touched`. This means it knows a new Java class was created or modified. \n"
   ]
  },
  {
   "cell_type": "code",
   "execution_count": null,
   "id": "8fdaf09c",
   "metadata": {
    "vscode": {
     "languageId": "shellscript"
    }
   },
   "outputs": [],
   "source": [
    "echo 'package org.computate.smartvillage.enus.model.photovoltaicmeasurement;\n",
    "\n",
    "/**\n",
    " * SmartDataModel: photovoltaic measurement\n",
    " * Fiware: true\n",
    " **/\n",
    "public class PhotovoltaicMeasurement {\n",
    "}\n",
    "' | tee ~/smartabyar-smartvillage/src/main/java/org/computate/smartvillage/enus/model/photovoltaicmeasurement/PhotovoltaicMeasurement.java >/dev/null\n",
    "echo DONE"
   ]
  },
  {
   "cell_type": "markdown",
   "id": "8eb36a61",
   "metadata": {},
   "source": [
    "You'll notice again some output in the terminal below `PhotovoltaicMeasurement touched` where it found the 10 closest Smart Data Model matches to your `SmartDataModel: photovoltaic measurement` search query. Unfortunately, it put `Measurement EnergyCIM Smart Energy` at number 1 with a score of 133, and `PhotovoltaicMeasurement GreenEnergy Smart Energy` at number 4 with a score of 127. \n",
    "\n",
    "Let's try the search again with more keywords to find a better match: "
   ]
  },
  {
   "cell_type": "code",
   "execution_count": null,
   "id": "a4f4a220",
   "metadata": {
    "vscode": {
     "languageId": "shellscript"
    }
   },
   "outputs": [],
   "source": [
    "echo 'package org.computate.smartvillage.enus.model.photovoltaicmeasurement;\n",
    "\n",
    "/**\n",
    " * SmartDataModel: photo voltaic measurement green energy smart energy\n",
    " * Fiware: true\n",
    " **/\n",
    "public class PhotovoltaicMeasurement {\n",
    "}\n",
    "' | tee ~/smartabyar-smartvillage/src/main/java/org/computate/smartvillage/enus/model/photovoltaicmeasurement/PhotovoltaicMeasurement.java >/dev/null\n",
    "echo DONE"
   ]
  },
  {
   "cell_type": "markdown",
   "id": "a0774b49",
   "metadata": {},
   "source": [
    "Hopefully you see a better match with `PhotovoltaicMeasurement GreenEnergy Smart Energy` at number 1 with a score of 252. Next we'll have it generate the code for this Smart Data Model by removing the comment `Fiware: true`. "
   ]
  },
  {
   "cell_type": "code",
   "execution_count": null,
   "id": "c225d327",
   "metadata": {
    "vscode": {
     "languageId": "shellscript"
    }
   },
   "outputs": [],
   "source": [
    "echo 'package org.computate.smartvillage.enus.model.photovoltaicmeasurement;\n",
    "\n",
    "/**\n",
    " * SmartDataModel: photo voltaic measurement green energy smart energy\n",
    " **/\n",
    "public class PhotovoltaicMeasurement {\n",
    "}\n",
    "' | tee ~/smartabyar-smartvillage/src/main/java/org/computate/smartvillage/enus/model/photovoltaicmeasurement/PhotovoltaicMeasurement.java >/dev/null\n",
    "echo DONE"
   ]
  },
  {
   "cell_type": "markdown",
   "id": "7ce81d34",
   "metadata": {},
   "source": [
    "There should be a long printout of code that will replace most of the code above. \n",
    "\n",
    "- First navigate to the created class in the Explorer on the left: `smartabyar-smartvillage/src/main/java/org/computate/smartvillage/enus/model/photovoltaicmeasurement/PhotovoltaicMeasurement.java`\n",
    "- Keep the first line with the `package` and delete all the lines starting with line 3 and below. \n",
    "- In the console output below, select everything between `FIWARE SmartDataModel fields:` starting with `import ` until the final `}` and above `PhotovoltaicMeasurement touched`. \n",
    "- Copy the code in the terminal to the clipboard with [ Ctrl ] + [ Insert ]. \n",
    "- Inside of PhotovoltaicMeasurement.java below the package, paste the code. \n",
    "- You can see `PhotovoltaicMeasurement touched` in the terminal again. \n"
   ]
  },
  {
   "cell_type": "code",
   "execution_count": null,
   "id": "8aa94070",
   "metadata": {
    "vscode": {
     "languageId": "shellscript"
    }
   },
   "outputs": [],
   "source": [
    "(cd ~/smartabyar-smartvillage && git status)"
   ]
  },
  {
   "cell_type": "markdown",
   "id": "24692962",
   "metadata": {},
   "source": [
    "## Rebuild the Smart Village OpenAPI spec, database scripts, and more\n",
    "\n",
    "A running web application is made up of much more than Java code. \n",
    "\n",
    "- The Smart Village Platform is also made up of CSS Stylesheets and Java Script. Each model has it's own set of specific JavaScript specific to it's fields and APIs. \n",
    "\n",
    "- An OpenAPI Spec is generated to map out all the APIs and pages in the site for system integrators to consume or update data in the site. \n",
    "\n",
    "- A database schema is also generated for storing all model data with specific field values, tables, and foreign key relations. \n",
    "\n",
    "- The `smartabyar-smartvillage` project also inherits certain static content from the parent project `smartvillage-platform`, so we copy any updates to the inherited static content into the project's static content as well. \n",
    "\n",
    "- We also build a FIWARE Context, which is the documentation of all the FIWARE related Smart Data Models following the standard for NGSI-LD data and publish the context to GitHub. \n",
    "\n",
    "Run the command below to generate all of the code listed above. "
   ]
  },
  {
   "cell_type": "code",
   "execution_count": null,
   "id": "51e9b11b",
   "metadata": {
    "vscode": {
     "languageId": "shellscript"
    }
   },
   "outputs": [],
   "source": [
    "(cd ~/smartabyar-smartvillage && env \\\n",
    "  RUN_ARTICLE_GENERATOR=true \\\n",
    "  RUN_FIWARE_GENERATOR=true \\\n",
    "  RUN_OPENAPI3_GENERATOR=true \\\n",
    "  RUN_PROJECT_GENERATOR=true \\\n",
    "  RUN_SQL_GENERATOR=true \\\n",
    "  CONFIG_PATH=$HOME/smartabyar-smartvillage/config/smartabyar-smartvillage.yml \\\n",
    "  mvn exec:java -Dexec.mainClass=\"org.computate.smartvillage.enus.vertx.MainVerticle\")\n"
   ]
  },
  {
   "cell_type": "markdown",
   "id": "bff08b25",
   "metadata": {},
   "source": [
    "## Update the Role Based Access Control defaults for PhotovoltaicMeasurement and register our new API\n",
    "I have written an Ansible Playbook in the course that will update the `~/smartabyar-smartvillage/src/main/resources/application.yml` with the value `AUTH_ROLE_REQUIRED_PhotovoltaicMeasurement: Public`. This means that users that have a role of `Public` given to them by the Red Hat SSO server will be able to create/update/view PhotovoltaicMeasurement records. "
   ]
  },
  {
   "cell_type": "code",
   "execution_count": null,
   "id": "c6b87f6e",
   "metadata": {
    "vscode": {
     "languageId": "shellscript"
    }
   },
   "outputs": [],
   "source": [
    "ansible-playbook ~/smart-device-api-generation-hackathon/update_application.yaml"
   ]
  },
  {
   "cell_type": "markdown",
   "id": "8d2bcb0b",
   "metadata": {},
   "source": [
    "Run the commands below to see how we have newly configured PhotovoltaicMeasurement in our Smart Village Platform. "
   ]
  },
  {
   "cell_type": "code",
   "execution_count": null,
   "id": "876e5140",
   "metadata": {
    "vscode": {
     "languageId": "shellscript"
    }
   },
   "outputs": [],
   "source": [
    "grep -r PhotovoltaicMeasurement ~/smartabyar-smartvillage/src/main/resources/application.yml\n",
    "echo DONE"
   ]
  },
  {
   "cell_type": "markdown",
   "id": "2944d543",
   "metadata": {},
   "source": [
    "See below how we register the PhotovoltaicMeasurement API code in the Main Vert.x Verticle of the Smart Village Platform and link it to the OpenAPI spec that we regenerated. "
   ]
  },
  {
   "cell_type": "code",
   "execution_count": null,
   "id": "5d3857ba",
   "metadata": {
    "vscode": {
     "languageId": "shellscript"
    }
   },
   "outputs": [],
   "source": [
    "grep -r PhotovoltaicMeasurement ~/smartabyar-smartvillage/src/main/java/org/computate/smartvillage/enus/vertx/MainVerticle.java\n",
    "echo DONE"
   ]
  },
  {
   "cell_type": "markdown",
   "id": "cbe0e4df",
   "metadata": {},
   "source": [
    "\n",
    "## Compile the latest smartabyar-smartvillage generated Java code\n",
    "We use Maven to compile all the Java Code for the smartabyar-smartvillage project, including the new code we generated for PhotovoltaicMeasurement data. "
   ]
  },
  {
   "cell_type": "code",
   "execution_count": null,
   "id": "a84fa44e",
   "metadata": {
    "vscode": {
     "languageId": "shellscript"
    }
   },
   "outputs": [],
   "source": [
    "(cd ~/smartabyar-smartvillage && mvn clean install -D skipTests)\n",
    "echo DONE"
   ]
  },
  {
   "cell_type": "markdown",
   "id": "1fed4b20",
   "metadata": {},
   "source": [
    "## Run SQL create scripts with new PostgreSQL tables\n",
    "When we create new Smart Data Models that are persisted in the PostgreSQL database, we need to make sure that our database has all the tables and fields required to persist the data. Run the commands below to rsync the `db-create.sql` script to the PostgreSQL pod. It will connect again and apply all of the database schema changes to the database. "
   ]
  },
  {
   "cell_type": "code",
   "execution_count": null,
   "id": "110ea654",
   "metadata": {
    "vscode": {
     "languageId": "shellscript"
    }
   },
   "outputs": [],
   "source": [
    "oc -n $(cat /var/run/secrets/kubernetes.io/serviceaccount/namespace) rsync \\\n",
    "  /opt/app-root/src/smartabyar-smartvillage/src/main/resources/sql/ \\\n",
    "  $(oc -n $(cat /var/run/secrets/kubernetes.io/serviceaccount/namespace) get pod -l app=postgres -o name):/tmp/\n",
    "oc -n $(cat /var/run/secrets/kubernetes.io/serviceaccount/namespace) exec \\\n",
    "  $(oc -n $(cat /var/run/secrets/kubernetes.io/serviceaccount/namespace) get pod -l app=postgres -o name) \\\n",
    "  -- bash -c 'psql -U smartvillage smartvillage < /tmp/db-create.sql'\n",
    "echo DONE"
   ]
  },
  {
   "cell_type": "markdown",
   "id": "d3c4ba5b",
   "metadata": {},
   "source": []
  }
 ],
 "metadata": {
  "kernelspec": {
   "display_name": "Bash",
   "language": "bash",
   "name": "bash"
  },
  "language_info": {
   "codemirror_mode": "shell",
   "file_extension": ".sh",
   "mimetype": "text/x-sh",
   "name": "bash"
  }
 },
 "nbformat": 4,
 "nbformat_minor": 5
}
